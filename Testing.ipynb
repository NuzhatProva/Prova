{
 "cells": [
  {
   "cell_type": "markdown",
   "id": "17dc3c30",
   "metadata": {},
   "source": [
    "# Midterm Project CS673 Scalable Database"
   ]
  },
  {
   "cell_type": "markdown",
   "id": "83a1ad89",
   "metadata": {},
   "source": [
    "## Analyzing New York City Data with SQL, Python, and Version Control¶\n",
    "\n"
   ]
  },
  {
   "cell_type": "markdown",
   "id": "47d1ea21",
   "metadata": {},
   "source": [
    "## Project Objective\n",
    "\n",
    "**The main goal of this project is to analyze three NYPD datasets to gain insights about public safety in New York City. Data Science tools such Python, SQL, and Git to clean, retrieve, and analyze data on the following dataset\n",
    "\n",
    "\n",
    "\n",
    "### Data sets\n",
    "1. NYPD Hate Crime in NYC\n",
    "2. NYPD Shooting\n",
    "3. NYPD Arrest report\n",
    "\n",
    "\n",
    "\n",
    "**The end goal is to uncover patterns and trends that can help law enforcement and policymakers make data-driven decisions and keep New York City residence safety and reduce the crime**"
   ]
  },
  {
   "cell_type": "markdown",
   "id": "282b9835",
   "metadata": {},
   "source": [
    "### 1. NYPD Hate Crime"
   ]
  },
  {
   "cell_type": "code",
   "execution_count": 1,
   "id": "bbd1c3ae",
   "metadata": {},
   "outputs": [],
   "source": [
    "# Import the necessary Libraries\n",
    "\n",
    "import pandas as pd\n",
    "import numpy as np\n",
    "import matplotlib.pyplot as plt\n",
    "import seaborn as sns"
   ]
  },
  {
   "cell_type": "code",
   "execution_count": 8,
   "id": "72cbde42",
   "metadata": {},
   "outputs": [
    {
     "data": {
      "text/html": [
       "<div>\n",
       "<style scoped>\n",
       "    .dataframe tbody tr th:only-of-type {\n",
       "        vertical-align: middle;\n",
       "    }\n",
       "\n",
       "    .dataframe tbody tr th {\n",
       "        vertical-align: top;\n",
       "    }\n",
       "\n",
       "    .dataframe thead th {\n",
       "        text-align: right;\n",
       "    }\n",
       "</style>\n",
       "<table border=\"1\" class=\"dataframe\">\n",
       "  <thead>\n",
       "    <tr style=\"text-align: right;\">\n",
       "      <th></th>\n",
       "      <th>comp_year</th>\n",
       "      <th>month_num</th>\n",
       "      <th>record_date</th>\n",
       "      <th>precinct_code</th>\n",
       "      <th>borough</th>\n",
       "      <th>county</th>\n",
       "      <th>law_ category</th>\n",
       "      <th>offense</th>\n",
       "      <th>pd_code</th>\n",
       "      <th>bias_ motive</th>\n",
       "      <th>offense_cat</th>\n",
       "      <th>arrest_date</th>\n",
       "      <th>arrest_ id</th>\n",
       "    </tr>\n",
       "  </thead>\n",
       "  <tbody>\n",
       "    <tr>\n",
       "      <th>0</th>\n",
       "      <td>2019</td>\n",
       "      <td>2</td>\n",
       "      <td>2/8/19</td>\n",
       "      <td>46</td>\n",
       "      <td>PATROL BORO BRONX</td>\n",
       "      <td>BRONX</td>\n",
       "      <td>FELONY</td>\n",
       "      <td>FELONY ASSAULT</td>\n",
       "      <td>ASSAULT 2,1,UNCLASSIFIED</td>\n",
       "      <td>ANTI-MALE HOMOSEXUAL (GAY)</td>\n",
       "      <td>Sexual Orientation</td>\n",
       "      <td>2/8/19</td>\n",
       "      <td>B31678218</td>\n",
       "    </tr>\n",
       "    <tr>\n",
       "      <th>1</th>\n",
       "      <td>2019</td>\n",
       "      <td>3</td>\n",
       "      <td>3/9/19</td>\n",
       "      <td>48</td>\n",
       "      <td>PATROL BORO BRONX</td>\n",
       "      <td>BRONX</td>\n",
       "      <td>MISDEMEANOR</td>\n",
       "      <td>ASSAULT 3 &amp; RELATED OFFENSES</td>\n",
       "      <td>ASSAULT 3</td>\n",
       "      <td>ANTI-WHITE</td>\n",
       "      <td>Race/Color</td>\n",
       "      <td>3/9/19</td>\n",
       "      <td>B31682790</td>\n",
       "    </tr>\n",
       "    <tr>\n",
       "      <th>2</th>\n",
       "      <td>2019</td>\n",
       "      <td>3</td>\n",
       "      <td>3/10/19</td>\n",
       "      <td>48</td>\n",
       "      <td>PATROL BORO BRONX</td>\n",
       "      <td>BRONX</td>\n",
       "      <td>MISDEMEANOR</td>\n",
       "      <td>ASSAULT 3 &amp; RELATED OFFENSES</td>\n",
       "      <td>ASSAULT 3</td>\n",
       "      <td>ANTI-WHITE</td>\n",
       "      <td>Race/Color</td>\n",
       "      <td>3/9/19</td>\n",
       "      <td>B31682806</td>\n",
       "    </tr>\n",
       "    <tr>\n",
       "      <th>3</th>\n",
       "      <td>2019</td>\n",
       "      <td>3</td>\n",
       "      <td>3/8/19</td>\n",
       "      <td>48</td>\n",
       "      <td>PATROL BORO BRONX</td>\n",
       "      <td>BRONX</td>\n",
       "      <td>MISDEMEANOR</td>\n",
       "      <td>ASSAULT 3 &amp; RELATED OFFENSES</td>\n",
       "      <td>ASSAULT 3</td>\n",
       "      <td>ANTI-WHITE</td>\n",
       "      <td>Race/Color</td>\n",
       "      <td>3/9/19</td>\n",
       "      <td>B31682806</td>\n",
       "    </tr>\n",
       "    <tr>\n",
       "      <th>4</th>\n",
       "      <td>2019</td>\n",
       "      <td>5</td>\n",
       "      <td>5/11/19</td>\n",
       "      <td>42</td>\n",
       "      <td>PATROL BORO BRONX</td>\n",
       "      <td>BRONX</td>\n",
       "      <td>FELONY</td>\n",
       "      <td>ROBBERY</td>\n",
       "      <td>ROBBERY,POCKETBOOK/CARRIED BAG</td>\n",
       "      <td>ANTI-MUSLIM</td>\n",
       "      <td>Religion/Religious Practice</td>\n",
       "      <td>5/10/19</td>\n",
       "      <td>B31692174</td>\n",
       "    </tr>\n",
       "    <tr>\n",
       "      <th>...</th>\n",
       "      <td>...</td>\n",
       "      <td>...</td>\n",
       "      <td>...</td>\n",
       "      <td>...</td>\n",
       "      <td>...</td>\n",
       "      <td>...</td>\n",
       "      <td>...</td>\n",
       "      <td>...</td>\n",
       "      <td>...</td>\n",
       "      <td>...</td>\n",
       "      <td>...</td>\n",
       "      <td>...</td>\n",
       "      <td>...</td>\n",
       "    </tr>\n",
       "    <tr>\n",
       "      <th>2242</th>\n",
       "      <td>2023</td>\n",
       "      <td>4</td>\n",
       "      <td>4/10/23</td>\n",
       "      <td>103</td>\n",
       "      <td>PATROL BORO QUEENS SOUTH</td>\n",
       "      <td>QUEENS</td>\n",
       "      <td>FELONY</td>\n",
       "      <td>FELONY ASSAULT</td>\n",
       "      <td>ASSAULT 2,1,UNCLASSIFIED</td>\n",
       "      <td>ANTI-MALE HOMOSEXUAL (GAY)</td>\n",
       "      <td>Sexual Orientation</td>\n",
       "      <td>NaN</td>\n",
       "      <td>NaN</td>\n",
       "    </tr>\n",
       "    <tr>\n",
       "      <th>2243</th>\n",
       "      <td>2023</td>\n",
       "      <td>5</td>\n",
       "      <td>5/31/23</td>\n",
       "      <td>103</td>\n",
       "      <td>PATROL BORO QUEENS SOUTH</td>\n",
       "      <td>QUEENS</td>\n",
       "      <td>MISDEMEANOR</td>\n",
       "      <td>OFF. AGNST PUB ORD SENSBLTY &amp;</td>\n",
       "      <td>AGGRAVATED HARASSMENT 2</td>\n",
       "      <td>ANTI-TRANSGENDER</td>\n",
       "      <td>Gender</td>\n",
       "      <td>NaN</td>\n",
       "      <td>NaN</td>\n",
       "    </tr>\n",
       "    <tr>\n",
       "      <th>2244</th>\n",
       "      <td>2023</td>\n",
       "      <td>1</td>\n",
       "      <td>1/23/23</td>\n",
       "      <td>114</td>\n",
       "      <td>PATROL BORO QUEENS NORTH</td>\n",
       "      <td>QUEENS</td>\n",
       "      <td>FELONY</td>\n",
       "      <td>MISCELLANEOUS PENAL LAW</td>\n",
       "      <td>AGGRAVATED HARASSMENT 1</td>\n",
       "      <td>ANTI-JEWISH</td>\n",
       "      <td>Religion/Religious Practice</td>\n",
       "      <td>NaN</td>\n",
       "      <td>NaN</td>\n",
       "    </tr>\n",
       "    <tr>\n",
       "      <th>2245</th>\n",
       "      <td>2023</td>\n",
       "      <td>3</td>\n",
       "      <td>3/13/23</td>\n",
       "      <td>122</td>\n",
       "      <td>PATROL BORO STATEN ISLAND</td>\n",
       "      <td>RICHMOND</td>\n",
       "      <td>MISDEMEANOR</td>\n",
       "      <td>OFF. AGNST PUB ORD SENSBLTY &amp;</td>\n",
       "      <td>AGGRAVATED HARASSMENT 2</td>\n",
       "      <td>ANTI-BLACK</td>\n",
       "      <td>Race/Color</td>\n",
       "      <td>NaN</td>\n",
       "      <td>NaN</td>\n",
       "    </tr>\n",
       "    <tr>\n",
       "      <th>2246</th>\n",
       "      <td>2023</td>\n",
       "      <td>4</td>\n",
       "      <td>4/19/23</td>\n",
       "      <td>122</td>\n",
       "      <td>PATROL BORO STATEN ISLAND</td>\n",
       "      <td>RICHMOND</td>\n",
       "      <td>MISDEMEANOR</td>\n",
       "      <td>OFF. AGNST PUB ORD SENSBLTY &amp;</td>\n",
       "      <td>AGGRAVATED HARASSMENT 2</td>\n",
       "      <td>ANTI-BLACK</td>\n",
       "      <td>Race/Color</td>\n",
       "      <td>NaN</td>\n",
       "      <td>NaN</td>\n",
       "    </tr>\n",
       "  </tbody>\n",
       "</table>\n",
       "<p>2247 rows × 13 columns</p>\n",
       "</div>"
      ],
      "text/plain": [
       "      comp_year  month_num record_date  precinct_code  \\\n",
       "0          2019          2      2/8/19             46   \n",
       "1          2019          3      3/9/19             48   \n",
       "2          2019          3     3/10/19             48   \n",
       "3          2019          3      3/8/19             48   \n",
       "4          2019          5     5/11/19             42   \n",
       "...         ...        ...         ...            ...   \n",
       "2242       2023          4     4/10/23            103   \n",
       "2243       2023          5     5/31/23            103   \n",
       "2244       2023          1     1/23/23            114   \n",
       "2245       2023          3     3/13/23            122   \n",
       "2246       2023          4     4/19/23            122   \n",
       "\n",
       "                       borough     county law_ category   \\\n",
       "0             PATROL BORO BRONX     BRONX         FELONY   \n",
       "1             PATROL BORO BRONX     BRONX    MISDEMEANOR   \n",
       "2             PATROL BORO BRONX     BRONX    MISDEMEANOR   \n",
       "3             PATROL BORO BRONX     BRONX    MISDEMEANOR   \n",
       "4             PATROL BORO BRONX     BRONX         FELONY   \n",
       "...                         ...       ...            ...   \n",
       "2242   PATROL BORO QUEENS SOUTH    QUEENS         FELONY   \n",
       "2243   PATROL BORO QUEENS SOUTH    QUEENS    MISDEMEANOR   \n",
       "2244   PATROL BORO QUEENS NORTH    QUEENS         FELONY   \n",
       "2245  PATROL BORO STATEN ISLAND  RICHMOND    MISDEMEANOR   \n",
       "2246  PATROL BORO STATEN ISLAND  RICHMOND    MISDEMEANOR   \n",
       "\n",
       "                           offense                          pd_code  \\\n",
       "0                    FELONY ASSAULT        ASSAULT 2,1,UNCLASSIFIED   \n",
       "1      ASSAULT 3 & RELATED OFFENSES                       ASSAULT 3   \n",
       "2      ASSAULT 3 & RELATED OFFENSES                       ASSAULT 3   \n",
       "3      ASSAULT 3 & RELATED OFFENSES                       ASSAULT 3   \n",
       "4                           ROBBERY  ROBBERY,POCKETBOOK/CARRIED BAG   \n",
       "...                             ...                             ...   \n",
       "2242                 FELONY ASSAULT        ASSAULT 2,1,UNCLASSIFIED   \n",
       "2243  OFF. AGNST PUB ORD SENSBLTY &         AGGRAVATED HARASSMENT 2   \n",
       "2244        MISCELLANEOUS PENAL LAW         AGGRAVATED HARASSMENT 1   \n",
       "2245  OFF. AGNST PUB ORD SENSBLTY &         AGGRAVATED HARASSMENT 2   \n",
       "2246  OFF. AGNST PUB ORD SENSBLTY &         AGGRAVATED HARASSMENT 2   \n",
       "\n",
       "                   bias_ motive                   offense_cat arrest_date  \\\n",
       "0     ANTI-MALE HOMOSEXUAL (GAY)           Sexual Orientation      2/8/19   \n",
       "1                     ANTI-WHITE                   Race/Color      3/9/19   \n",
       "2                     ANTI-WHITE                   Race/Color      3/9/19   \n",
       "3                     ANTI-WHITE                   Race/Color      3/9/19   \n",
       "4                    ANTI-MUSLIM  Religion/Religious Practice     5/10/19   \n",
       "...                          ...                          ...         ...   \n",
       "2242  ANTI-MALE HOMOSEXUAL (GAY)           Sexual Orientation         NaN   \n",
       "2243            ANTI-TRANSGENDER                       Gender         NaN   \n",
       "2244                 ANTI-JEWISH  Religion/Religious Practice         NaN   \n",
       "2245                  ANTI-BLACK                   Race/Color         NaN   \n",
       "2246                  ANTI-BLACK                   Race/Color         NaN   \n",
       "\n",
       "     arrest_ id  \n",
       "0     B31678218  \n",
       "1     B31682790  \n",
       "2     B31682806  \n",
       "3     B31682806  \n",
       "4     B31692174  \n",
       "...         ...  \n",
       "2242        NaN  \n",
       "2243        NaN  \n",
       "2244        NaN  \n",
       "2245        NaN  \n",
       "2246        NaN  \n",
       "\n",
       "[2247 rows x 13 columns]"
      ]
     },
     "execution_count": 8,
     "metadata": {},
     "output_type": "execute_result"
    }
   ],
   "source": [
    "# read in the dataset\n",
    "\n",
    "hate_crime = pd.read_csv(\"NYPD_Hate_Crimes.csv\")\n",
    "\n",
    "hate_crime"
   ]
  },
  {
   "cell_type": "markdown",
   "id": "35b4ea5f",
   "metadata": {},
   "source": [
    "## Data Preparation"
   ]
  },
  {
   "cell_type": "code",
   "execution_count": 9,
   "id": "ff2fad6f",
   "metadata": {},
   "outputs": [
    {
     "data": {
      "text/plain": [
       "(2247, 13)"
      ]
     },
     "execution_count": 9,
     "metadata": {},
     "output_type": "execute_result"
    }
   ],
   "source": [
    "hate_crime.shape"
   ]
  },
  {
   "cell_type": "code",
   "execution_count": 10,
   "id": "55a2aae4",
   "metadata": {},
   "outputs": [
    {
     "data": {
      "text/html": [
       "<div>\n",
       "<style scoped>\n",
       "    .dataframe tbody tr th:only-of-type {\n",
       "        vertical-align: middle;\n",
       "    }\n",
       "\n",
       "    .dataframe tbody tr th {\n",
       "        vertical-align: top;\n",
       "    }\n",
       "\n",
       "    .dataframe thead th {\n",
       "        text-align: right;\n",
       "    }\n",
       "</style>\n",
       "<table border=\"1\" class=\"dataframe\">\n",
       "  <thead>\n",
       "    <tr style=\"text-align: right;\">\n",
       "      <th></th>\n",
       "      <th>comp_year</th>\n",
       "      <th>month_num</th>\n",
       "      <th>precinct_code</th>\n",
       "    </tr>\n",
       "  </thead>\n",
       "  <tbody>\n",
       "    <tr>\n",
       "      <th>count</th>\n",
       "      <td>2247.000000</td>\n",
       "      <td>2247.000000</td>\n",
       "      <td>2247.000000</td>\n",
       "    </tr>\n",
       "    <tr>\n",
       "      <th>mean</th>\n",
       "      <td>2021.014686</td>\n",
       "      <td>5.950156</td>\n",
       "      <td>59.902092</td>\n",
       "    </tr>\n",
       "    <tr>\n",
       "      <th>std</th>\n",
       "      <td>1.305259</td>\n",
       "      <td>3.284819</td>\n",
       "      <td>38.009633</td>\n",
       "    </tr>\n",
       "    <tr>\n",
       "      <th>min</th>\n",
       "      <td>2019.000000</td>\n",
       "      <td>1.000000</td>\n",
       "      <td>1.000000</td>\n",
       "    </tr>\n",
       "    <tr>\n",
       "      <th>25%</th>\n",
       "      <td>2020.000000</td>\n",
       "      <td>3.000000</td>\n",
       "      <td>19.000000</td>\n",
       "    </tr>\n",
       "    <tr>\n",
       "      <th>50%</th>\n",
       "      <td>2021.000000</td>\n",
       "      <td>6.000000</td>\n",
       "      <td>66.000000</td>\n",
       "    </tr>\n",
       "    <tr>\n",
       "      <th>75%</th>\n",
       "      <td>2022.000000</td>\n",
       "      <td>9.000000</td>\n",
       "      <td>90.000000</td>\n",
       "    </tr>\n",
       "    <tr>\n",
       "      <th>max</th>\n",
       "      <td>2023.000000</td>\n",
       "      <td>12.000000</td>\n",
       "      <td>123.000000</td>\n",
       "    </tr>\n",
       "  </tbody>\n",
       "</table>\n",
       "</div>"
      ],
      "text/plain": [
       "         comp_year    month_num  precinct_code\n",
       "count  2247.000000  2247.000000    2247.000000\n",
       "mean   2021.014686     5.950156      59.902092\n",
       "std       1.305259     3.284819      38.009633\n",
       "min    2019.000000     1.000000       1.000000\n",
       "25%    2020.000000     3.000000      19.000000\n",
       "50%    2021.000000     6.000000      66.000000\n",
       "75%    2022.000000     9.000000      90.000000\n",
       "max    2023.000000    12.000000     123.000000"
      ]
     },
     "execution_count": 10,
     "metadata": {},
     "output_type": "execute_result"
    }
   ],
   "source": [
    "hate_crime.describe()"
   ]
  },
  {
   "cell_type": "code",
   "execution_count": 11,
   "id": "11b8b993",
   "metadata": {},
   "outputs": [
    {
     "name": "stdout",
     "output_type": "stream",
     "text": [
      "<class 'pandas.core.frame.DataFrame'>\n",
      "RangeIndex: 2247 entries, 0 to 2246\n",
      "Data columns (total 13 columns):\n",
      " #   Column          Non-Null Count  Dtype \n",
      "---  ------          --------------  ----- \n",
      " 0   comp_year       2247 non-null   int64 \n",
      " 1   month_num       2247 non-null   int64 \n",
      " 2   record_date     2247 non-null   object\n",
      " 3   precinct_code   2247 non-null   int64 \n",
      " 4    borough        2247 non-null   object\n",
      " 5   county          2247 non-null   object\n",
      " 6   law_ category   2247 non-null   object\n",
      " 7   offense         2247 non-null   object\n",
      " 8   pd_code         2247 non-null   object\n",
      " 9   bias_ motive    2247 non-null   object\n",
      " 10  offense_cat     2247 non-null   object\n",
      " 11  arrest_date     903 non-null    object\n",
      " 12  arrest_ id      903 non-null    object\n",
      "dtypes: int64(3), object(10)\n",
      "memory usage: 228.3+ KB\n"
     ]
    }
   ],
   "source": [
    "hate_crime.info()"
   ]
  },
  {
   "cell_type": "code",
   "execution_count": 12,
   "id": "3e6f1c82",
   "metadata": {},
   "outputs": [
    {
     "data": {
      "text/plain": [
       "comp_year            0\n",
       "month_num            0\n",
       "record_date          0\n",
       "precinct_code        0\n",
       " borough             0\n",
       "county               0\n",
       "law_ category        0\n",
       "offense              0\n",
       "pd_code              0\n",
       "bias_ motive         0\n",
       "offense_cat          0\n",
       "arrest_date       1344\n",
       "arrest_ id        1344\n",
       "dtype: int64"
      ]
     },
     "execution_count": 12,
     "metadata": {},
     "output_type": "execute_result"
    }
   ],
   "source": [
    "hate_crime.isnull().sum()"
   ]
  },
  {
   "cell_type": "code",
   "execution_count": 14,
   "id": "609365d3",
   "metadata": {},
   "outputs": [
    {
     "data": {
      "text/plain": [
       "25"
      ]
     },
     "execution_count": 14,
     "metadata": {},
     "output_type": "execute_result"
    }
   ],
   "source": [
    "hate_crime.duplicated().sum()"
   ]
  },
  {
   "cell_type": "code",
   "execution_count": 15,
   "id": "488ca051",
   "metadata": {},
   "outputs": [
    {
     "data": {
      "text/plain": [
       "Index(['comp_year', 'month_num', 'record_date', 'precinct_code', ' borough ',\n",
       "       'county', 'law_ category ', 'offense ', 'pd_code', 'bias_ motive ',\n",
       "       'offense_cat', 'arrest_date', 'arrest_ id'],\n",
       "      dtype='object')"
      ]
     },
     "execution_count": 15,
     "metadata": {},
     "output_type": "execute_result"
    }
   ],
   "source": [
    "hate_crime.columns"
   ]
  },
  {
   "cell_type": "markdown",
   "id": "2f3cdd72",
   "metadata": {},
   "source": [
    "## Data Cleaning"
   ]
  },
  {
   "cell_type": "code",
   "execution_count": 18,
   "id": "a0af71ac",
   "metadata": {},
   "outputs": [
    {
     "data": {
      "text/plain": [
       "comp_year                  int64\n",
       "month_num                  int64\n",
       "record_date       datetime64[ns]\n",
       "precinct_code              int64\n",
       " borough                  object\n",
       "county                    object\n",
       "law_ category             object\n",
       "offense                   object\n",
       "pd_code                   object\n",
       "bias_ motive              object\n",
       "offense_cat               object\n",
       "arrest_date       datetime64[ns]\n",
       "arrest_ id                object\n",
       "dtype: object"
      ]
     },
     "execution_count": 18,
     "metadata": {},
     "output_type": "execute_result"
    }
   ],
   "source": [
    "\n",
    "# Convert 'Record Create Date' and 'Arrest Date' to datetime format (where applicable)\n",
    "\n",
    "hate_crime['record_date'] = pd.to_datetime(hate_crime['record_date'], errors='coerce')\n",
    "hate_crime['arrest_date'] = pd.to_datetime(hate_crime['arrest_date'], errors='coerce')\n",
    "\n",
    "# Check the data types of all columns to confirm changes\n",
    "\n",
    "hate_crime.dtypes"
   ]
  },
  {
   "cell_type": "code",
   "execution_count": 22,
   "id": "045d0c2b",
   "metadata": {
    "scrolled": false
   },
   "outputs": [
    {
     "data": {
      "text/html": [
       "<div>\n",
       "<style scoped>\n",
       "    .dataframe tbody tr th:only-of-type {\n",
       "        vertical-align: middle;\n",
       "    }\n",
       "\n",
       "    .dataframe tbody tr th {\n",
       "        vertical-align: top;\n",
       "    }\n",
       "\n",
       "    .dataframe thead th {\n",
       "        text-align: right;\n",
       "    }\n",
       "</style>\n",
       "<table border=\"1\" class=\"dataframe\">\n",
       "  <thead>\n",
       "    <tr style=\"text-align: right;\">\n",
       "      <th></th>\n",
       "      <th>comp_year</th>\n",
       "      <th>month_num</th>\n",
       "      <th>record_date</th>\n",
       "      <th>precinct_code</th>\n",
       "      <th>borough</th>\n",
       "      <th>county</th>\n",
       "      <th>law_ category</th>\n",
       "      <th>offense</th>\n",
       "      <th>pd_code</th>\n",
       "      <th>bias_ motive</th>\n",
       "      <th>offense_cat</th>\n",
       "      <th>arrest_date</th>\n",
       "      <th>arrest_ id</th>\n",
       "    </tr>\n",
       "  </thead>\n",
       "  <tbody>\n",
       "    <tr>\n",
       "      <th>0</th>\n",
       "      <td>2019</td>\n",
       "      <td>2</td>\n",
       "      <td>2019-02-08</td>\n",
       "      <td>46</td>\n",
       "      <td>PATROL BORO BRONX</td>\n",
       "      <td>BRONX</td>\n",
       "      <td>FELONY</td>\n",
       "      <td>FELONY ASSAULT</td>\n",
       "      <td>ASSAULT 2,1,UNCLASSIFIED</td>\n",
       "      <td>ANTI-MALE HOMOSEXUAL (GAY)</td>\n",
       "      <td>Sexual Orientation</td>\n",
       "      <td>2019-02-08 00:00:00</td>\n",
       "      <td>B31678218</td>\n",
       "    </tr>\n",
       "    <tr>\n",
       "      <th>1</th>\n",
       "      <td>2019</td>\n",
       "      <td>3</td>\n",
       "      <td>2019-03-09</td>\n",
       "      <td>48</td>\n",
       "      <td>PATROL BORO BRONX</td>\n",
       "      <td>BRONX</td>\n",
       "      <td>MISDEMEANOR</td>\n",
       "      <td>ASSAULT 3 &amp; RELATED OFFENSES</td>\n",
       "      <td>ASSAULT 3</td>\n",
       "      <td>ANTI-WHITE</td>\n",
       "      <td>Race/Color</td>\n",
       "      <td>2019-03-09 00:00:00</td>\n",
       "      <td>B31682790</td>\n",
       "    </tr>\n",
       "    <tr>\n",
       "      <th>2</th>\n",
       "      <td>2019</td>\n",
       "      <td>3</td>\n",
       "      <td>2019-03-10</td>\n",
       "      <td>48</td>\n",
       "      <td>PATROL BORO BRONX</td>\n",
       "      <td>BRONX</td>\n",
       "      <td>MISDEMEANOR</td>\n",
       "      <td>ASSAULT 3 &amp; RELATED OFFENSES</td>\n",
       "      <td>ASSAULT 3</td>\n",
       "      <td>ANTI-WHITE</td>\n",
       "      <td>Race/Color</td>\n",
       "      <td>2019-03-09 00:00:00</td>\n",
       "      <td>B31682806</td>\n",
       "    </tr>\n",
       "    <tr>\n",
       "      <th>3</th>\n",
       "      <td>2019</td>\n",
       "      <td>3</td>\n",
       "      <td>2019-03-08</td>\n",
       "      <td>48</td>\n",
       "      <td>PATROL BORO BRONX</td>\n",
       "      <td>BRONX</td>\n",
       "      <td>MISDEMEANOR</td>\n",
       "      <td>ASSAULT 3 &amp; RELATED OFFENSES</td>\n",
       "      <td>ASSAULT 3</td>\n",
       "      <td>ANTI-WHITE</td>\n",
       "      <td>Race/Color</td>\n",
       "      <td>2019-03-09 00:00:00</td>\n",
       "      <td>B31682806</td>\n",
       "    </tr>\n",
       "    <tr>\n",
       "      <th>4</th>\n",
       "      <td>2019</td>\n",
       "      <td>5</td>\n",
       "      <td>2019-05-11</td>\n",
       "      <td>42</td>\n",
       "      <td>PATROL BORO BRONX</td>\n",
       "      <td>BRONX</td>\n",
       "      <td>FELONY</td>\n",
       "      <td>ROBBERY</td>\n",
       "      <td>ROBBERY,POCKETBOOK/CARRIED BAG</td>\n",
       "      <td>ANTI-MUSLIM</td>\n",
       "      <td>Religion/Religious Practice</td>\n",
       "      <td>2019-05-10 00:00:00</td>\n",
       "      <td>B31692174</td>\n",
       "    </tr>\n",
       "    <tr>\n",
       "      <th>...</th>\n",
       "      <td>...</td>\n",
       "      <td>...</td>\n",
       "      <td>...</td>\n",
       "      <td>...</td>\n",
       "      <td>...</td>\n",
       "      <td>...</td>\n",
       "      <td>...</td>\n",
       "      <td>...</td>\n",
       "      <td>...</td>\n",
       "      <td>...</td>\n",
       "      <td>...</td>\n",
       "      <td>...</td>\n",
       "      <td>...</td>\n",
       "    </tr>\n",
       "    <tr>\n",
       "      <th>2242</th>\n",
       "      <td>2023</td>\n",
       "      <td>4</td>\n",
       "      <td>2023-04-10</td>\n",
       "      <td>103</td>\n",
       "      <td>PATROL BORO QUEENS SOUTH</td>\n",
       "      <td>QUEENS</td>\n",
       "      <td>FELONY</td>\n",
       "      <td>FELONY ASSAULT</td>\n",
       "      <td>ASSAULT 2,1,UNCLASSIFIED</td>\n",
       "      <td>ANTI-MALE HOMOSEXUAL (GAY)</td>\n",
       "      <td>Sexual Orientation</td>\n",
       "      <td>0</td>\n",
       "      <td>0</td>\n",
       "    </tr>\n",
       "    <tr>\n",
       "      <th>2243</th>\n",
       "      <td>2023</td>\n",
       "      <td>5</td>\n",
       "      <td>2023-05-31</td>\n",
       "      <td>103</td>\n",
       "      <td>PATROL BORO QUEENS SOUTH</td>\n",
       "      <td>QUEENS</td>\n",
       "      <td>MISDEMEANOR</td>\n",
       "      <td>OFF. AGNST PUB ORD SENSBLTY &amp;</td>\n",
       "      <td>AGGRAVATED HARASSMENT 2</td>\n",
       "      <td>ANTI-TRANSGENDER</td>\n",
       "      <td>Gender</td>\n",
       "      <td>0</td>\n",
       "      <td>0</td>\n",
       "    </tr>\n",
       "    <tr>\n",
       "      <th>2244</th>\n",
       "      <td>2023</td>\n",
       "      <td>1</td>\n",
       "      <td>2023-01-23</td>\n",
       "      <td>114</td>\n",
       "      <td>PATROL BORO QUEENS NORTH</td>\n",
       "      <td>QUEENS</td>\n",
       "      <td>FELONY</td>\n",
       "      <td>MISCELLANEOUS PENAL LAW</td>\n",
       "      <td>AGGRAVATED HARASSMENT 1</td>\n",
       "      <td>ANTI-JEWISH</td>\n",
       "      <td>Religion/Religious Practice</td>\n",
       "      <td>0</td>\n",
       "      <td>0</td>\n",
       "    </tr>\n",
       "    <tr>\n",
       "      <th>2245</th>\n",
       "      <td>2023</td>\n",
       "      <td>3</td>\n",
       "      <td>2023-03-13</td>\n",
       "      <td>122</td>\n",
       "      <td>PATROL BORO STATEN ISLAND</td>\n",
       "      <td>RICHMOND</td>\n",
       "      <td>MISDEMEANOR</td>\n",
       "      <td>OFF. AGNST PUB ORD SENSBLTY &amp;</td>\n",
       "      <td>AGGRAVATED HARASSMENT 2</td>\n",
       "      <td>ANTI-BLACK</td>\n",
       "      <td>Race/Color</td>\n",
       "      <td>0</td>\n",
       "      <td>0</td>\n",
       "    </tr>\n",
       "    <tr>\n",
       "      <th>2246</th>\n",
       "      <td>2023</td>\n",
       "      <td>4</td>\n",
       "      <td>2023-04-19</td>\n",
       "      <td>122</td>\n",
       "      <td>PATROL BORO STATEN ISLAND</td>\n",
       "      <td>RICHMOND</td>\n",
       "      <td>MISDEMEANOR</td>\n",
       "      <td>OFF. AGNST PUB ORD SENSBLTY &amp;</td>\n",
       "      <td>AGGRAVATED HARASSMENT 2</td>\n",
       "      <td>ANTI-BLACK</td>\n",
       "      <td>Race/Color</td>\n",
       "      <td>0</td>\n",
       "      <td>0</td>\n",
       "    </tr>\n",
       "  </tbody>\n",
       "</table>\n",
       "<p>2247 rows × 13 columns</p>\n",
       "</div>"
      ],
      "text/plain": [
       "      comp_year  month_num record_date  precinct_code  \\\n",
       "0          2019          2  2019-02-08             46   \n",
       "1          2019          3  2019-03-09             48   \n",
       "2          2019          3  2019-03-10             48   \n",
       "3          2019          3  2019-03-08             48   \n",
       "4          2019          5  2019-05-11             42   \n",
       "...         ...        ...         ...            ...   \n",
       "2242       2023          4  2023-04-10            103   \n",
       "2243       2023          5  2023-05-31            103   \n",
       "2244       2023          1  2023-01-23            114   \n",
       "2245       2023          3  2023-03-13            122   \n",
       "2246       2023          4  2023-04-19            122   \n",
       "\n",
       "                       borough     county law_ category   \\\n",
       "0             PATROL BORO BRONX     BRONX         FELONY   \n",
       "1             PATROL BORO BRONX     BRONX    MISDEMEANOR   \n",
       "2             PATROL BORO BRONX     BRONX    MISDEMEANOR   \n",
       "3             PATROL BORO BRONX     BRONX    MISDEMEANOR   \n",
       "4             PATROL BORO BRONX     BRONX         FELONY   \n",
       "...                         ...       ...            ...   \n",
       "2242   PATROL BORO QUEENS SOUTH    QUEENS         FELONY   \n",
       "2243   PATROL BORO QUEENS SOUTH    QUEENS    MISDEMEANOR   \n",
       "2244   PATROL BORO QUEENS NORTH    QUEENS         FELONY   \n",
       "2245  PATROL BORO STATEN ISLAND  RICHMOND    MISDEMEANOR   \n",
       "2246  PATROL BORO STATEN ISLAND  RICHMOND    MISDEMEANOR   \n",
       "\n",
       "                           offense                          pd_code  \\\n",
       "0                    FELONY ASSAULT        ASSAULT 2,1,UNCLASSIFIED   \n",
       "1      ASSAULT 3 & RELATED OFFENSES                       ASSAULT 3   \n",
       "2      ASSAULT 3 & RELATED OFFENSES                       ASSAULT 3   \n",
       "3      ASSAULT 3 & RELATED OFFENSES                       ASSAULT 3   \n",
       "4                           ROBBERY  ROBBERY,POCKETBOOK/CARRIED BAG   \n",
       "...                             ...                             ...   \n",
       "2242                 FELONY ASSAULT        ASSAULT 2,1,UNCLASSIFIED   \n",
       "2243  OFF. AGNST PUB ORD SENSBLTY &         AGGRAVATED HARASSMENT 2   \n",
       "2244        MISCELLANEOUS PENAL LAW         AGGRAVATED HARASSMENT 1   \n",
       "2245  OFF. AGNST PUB ORD SENSBLTY &         AGGRAVATED HARASSMENT 2   \n",
       "2246  OFF. AGNST PUB ORD SENSBLTY &         AGGRAVATED HARASSMENT 2   \n",
       "\n",
       "                   bias_ motive                   offense_cat  \\\n",
       "0     ANTI-MALE HOMOSEXUAL (GAY)           Sexual Orientation   \n",
       "1                     ANTI-WHITE                   Race/Color   \n",
       "2                     ANTI-WHITE                   Race/Color   \n",
       "3                     ANTI-WHITE                   Race/Color   \n",
       "4                    ANTI-MUSLIM  Religion/Religious Practice   \n",
       "...                          ...                          ...   \n",
       "2242  ANTI-MALE HOMOSEXUAL (GAY)           Sexual Orientation   \n",
       "2243            ANTI-TRANSGENDER                       Gender   \n",
       "2244                 ANTI-JEWISH  Religion/Religious Practice   \n",
       "2245                  ANTI-BLACK                   Race/Color   \n",
       "2246                  ANTI-BLACK                   Race/Color   \n",
       "\n",
       "              arrest_date arrest_ id  \n",
       "0     2019-02-08 00:00:00  B31678218  \n",
       "1     2019-03-09 00:00:00  B31682790  \n",
       "2     2019-03-09 00:00:00  B31682806  \n",
       "3     2019-03-09 00:00:00  B31682806  \n",
       "4     2019-05-10 00:00:00  B31692174  \n",
       "...                   ...        ...  \n",
       "2242                    0          0  \n",
       "2243                    0          0  \n",
       "2244                    0          0  \n",
       "2245                    0          0  \n",
       "2246                    0          0  \n",
       "\n",
       "[2247 rows x 13 columns]"
      ]
     },
     "execution_count": 22,
     "metadata": {},
     "output_type": "execute_result"
    }
   ],
   "source": [
    "# Impute missing values in 'Arrest Date' and 'Arrest Id' with '0'\n",
    "\n",
    "hate_crime['arrest_date'].fillna(0,inplace=True)\n",
    "hate_crime['arrest_ id'].fillna(0, inplace=True)\n",
    "hate_crime"
   ]
  },
  {
   "cell_type": "markdown",
   "id": "5439fb86",
   "metadata": {},
   "source": [
    "## Data Exploration"
   ]
  },
  {
   "cell_type": "markdown",
   "id": "9b701d98",
   "metadata": {},
   "source": [
    "## Q1. County with the highest crime "
   ]
  },
  {
   "cell_type": "code",
   "execution_count": 25,
   "id": "24982b28",
   "metadata": {},
   "outputs": [
    {
     "data": {
      "text/html": [
       "<div>\n",
       "<style scoped>\n",
       "    .dataframe tbody tr th:only-of-type {\n",
       "        vertical-align: middle;\n",
       "    }\n",
       "\n",
       "    .dataframe tbody tr th {\n",
       "        vertical-align: top;\n",
       "    }\n",
       "\n",
       "    .dataframe thead th {\n",
       "        text-align: right;\n",
       "    }\n",
       "</style>\n",
       "<table border=\"1\" class=\"dataframe\">\n",
       "  <thead>\n",
       "    <tr style=\"text-align: right;\">\n",
       "      <th></th>\n",
       "      <th>comp_year</th>\n",
       "      <th>month_num</th>\n",
       "      <th>precinct_code</th>\n",
       "    </tr>\n",
       "  </thead>\n",
       "  <tbody>\n",
       "    <tr>\n",
       "      <th>comp_year</th>\n",
       "      <td>1.000000</td>\n",
       "      <td>-0.198898</td>\n",
       "      <td>0.011184</td>\n",
       "    </tr>\n",
       "    <tr>\n",
       "      <th>month_num</th>\n",
       "      <td>-0.198898</td>\n",
       "      <td>1.000000</td>\n",
       "      <td>0.021418</td>\n",
       "    </tr>\n",
       "    <tr>\n",
       "      <th>precinct_code</th>\n",
       "      <td>0.011184</td>\n",
       "      <td>0.021418</td>\n",
       "      <td>1.000000</td>\n",
       "    </tr>\n",
       "  </tbody>\n",
       "</table>\n",
       "</div>"
      ],
      "text/plain": [
       "               comp_year  month_num  precinct_code\n",
       "comp_year       1.000000  -0.198898       0.011184\n",
       "month_num      -0.198898   1.000000       0.021418\n",
       "precinct_code   0.011184   0.021418       1.000000"
      ]
     },
     "execution_count": 25,
     "metadata": {},
     "output_type": "execute_result"
    }
   ],
   "source": [
    "hate_crime.corr()"
   ]
  },
  {
   "cell_type": "code",
   "execution_count": 29,
   "id": "3cab1d73",
   "metadata": {},
   "outputs": [
    {
     "data": {
      "text/plain": [
       "NEW YORK    797\n",
       "KINGS       777\n",
       "QUEENS      426\n",
       "BRONX       163\n",
       "RICHMOND     84\n",
       "Name: county, dtype: int64"
      ]
     },
     "execution_count": 29,
     "metadata": {},
     "output_type": "execute_result"
    }
   ],
   "source": [
    "hate_crime['county'].value_counts()"
   ]
  },
  {
   "cell_type": "code",
   "execution_count": 35,
   "id": "3abfbb97",
   "metadata": {},
   "outputs": [
    {
     "data": {
      "text/plain": [
       "Religion/Religious Practice           1110\n",
       "Race/Color                             586\n",
       "Sexual Orientation                     319\n",
       "Ethnicity/National Origin/Ancestry     146\n",
       "Gender                                  82\n",
       "Race/Religious Practice                  2\n",
       "Age                                      1\n",
       "Disability                               1\n",
       "Name: offense_cat, dtype: int64"
      ]
     },
     "execution_count": 35,
     "metadata": {},
     "output_type": "execute_result"
    }
   ],
   "source": [
    "hate_crime['offense_cat'].value_counts()"
   ]
  },
  {
   "cell_type": "code",
   "execution_count": 38,
   "id": "d353c5a3",
   "metadata": {},
   "outputs": [
    {
     "data": {
      "text/plain": [
       "AGGRAVATED HARASSMENT 1           532\n",
       "ASSAULT 3                         348\n",
       "AGGRAVATED HARASSMENT 2           318\n",
       "CRIMINAL MISCHIEF 4TH, GRAFFIT    274\n",
       "ASSAULT 2,1,UNCLASSIFIED          268\n",
       "                                 ... \n",
       "LARCENY,PETIT FROM STORE-SHOPL      1\n",
       "ROBBERY,CAR JACKING                 1\n",
       "MURDER,UNCLASSIFIED                 1\n",
       "RAPE 1                              1\n",
       "LARCENY,PETIT FROM OPEN AREAS,      1\n",
       "Name: pd_code, Length: 69, dtype: int64"
      ]
     },
     "execution_count": 38,
     "metadata": {},
     "output_type": "execute_result"
    }
   ],
   "source": [
    "hate_crime['pd_code'].value_counts()"
   ]
  },
  {
   "cell_type": "code",
   "execution_count": 45,
   "id": "c629f03a",
   "metadata": {},
   "outputs": [
    {
     "data": {
      "text/plain": [
       "<pandas.core.groupby.generic.DataFrameGroupBy object at 0x7f915fa903d0>"
      ]
     },
     "execution_count": 45,
     "metadata": {},
     "output_type": "execute_result"
    }
   ],
   "source": [
    "hate_crime.groupby(['county'])"
   ]
  },
  {
   "cell_type": "code",
   "execution_count": 47,
   "id": "0e0eebf9",
   "metadata": {},
   "outputs": [],
   "source": [
    "county_group_grp = hate_crime.groupby(['county'])"
   ]
  },
  {
   "cell_type": "code",
   "execution_count": 50,
   "id": "8871998f",
   "metadata": {},
   "outputs": [
    {
     "data": {
      "text/plain": [
       "county    offense_cat                       \n",
       "BRONX     Religion/Religious Practice            77\n",
       "          Race/Color                             38\n",
       "          Sexual Orientation                     28\n",
       "          Gender                                 12\n",
       "          Ethnicity/National Origin/Ancestry      8\n",
       "KINGS     Religion/Religious Practice           461\n",
       "          Race/Color                            136\n",
       "          Sexual Orientation                     87\n",
       "          Ethnicity/National Origin/Ancestry     64\n",
       "          Gender                                 29\n",
       "NEW YORK  Religion/Religious Practice           330\n",
       "          Race/Color                            268\n",
       "          Sexual Orientation                    145\n",
       "          Ethnicity/National Origin/Ancestry     32\n",
       "          Gender                                 19\n",
       "          Race/Religious Practice                 2\n",
       "          Disability                              1\n",
       "QUEENS    Religion/Religious Practice           201\n",
       "          Race/Color                            109\n",
       "          Sexual Orientation                     54\n",
       "          Ethnicity/National Origin/Ancestry     39\n",
       "          Gender                                 22\n",
       "          Age                                     1\n",
       "RICHMOND  Religion/Religious Practice            41\n",
       "          Race/Color                             35\n",
       "          Sexual Orientation                      5\n",
       "          Ethnicity/National Origin/Ancestry      3\n",
       "Name: offense_cat, dtype: int64"
      ]
     },
     "execution_count": 50,
     "metadata": {},
     "output_type": "execute_result"
    }
   ],
   "source": [
    "county_group_grp['offense_cat'].value_counts()"
   ]
  },
  {
   "cell_type": "code",
   "execution_count": 63,
   "id": "1fee672b",
   "metadata": {},
   "outputs": [
    {
     "data": {
      "image/png": "[encoded data removed]",
      "text/plain": [
       "<Figure size 750x750 with 12 Axes>"
      ]
     },
     "metadata": {},
     "output_type": "display_data"
    }
   ],
   "source": [
    "sns.pairplot(hate_crime)\n",
    "sns.set(rc={'figure.figsize':(15,10)})"
   ]
  },
  {
   "cell_type": "code",
   "execution_count": 75,
   "id": "f65ddef7",
   "metadata": {},
   "outputs": [
    {
     "data": {
      "image/png": "[encoded data removed]",
      "text/plain": [
       "<Figure size 1000x600 with 1 Axes>"
      ]
     },
     "metadata": {},
     "output_type": "display_data"
    }
   ],
   "source": [
    "sns.set(style=\"whitegrid\")\n",
    "\n",
    "# Plot the yearly distribution of hate crimes\n",
    "plt.figure(figsize=(10, 6))\n",
    "sns.countplot(x='comp_year', data=hate_crime)\n",
    "plt.title('Yearly Distribution of Hate Crimes')\n",
    "plt.xlabel('Year')\n",
    "plt.ylabel('Number of Hate Crimes')\n",
    "plt.show()"
   ]
  },
  {
   "cell_type": "code",
   "execution_count": 81,
   "id": "4e318476",
   "metadata": {},
   "outputs": [
    {
     "data": {
      "image/png": "[encoded data removed]",
      "text/plain": [
       "<Figure size 1000x600 with 1 Axes>"
      ]
     },
     "metadata": {},
     "output_type": "display_data"
    }
   ],
   "source": [
    "# Time Series Plot: Trend of hate crimes over the years\n",
    "\n",
    "plt.figure(figsize=(10, 6))\n",
    "time_series_data = hate_crime.groupby(['comp_year']).size().reset_index(name='Frequency')\n",
    "sns.lineplot(x='comp_year', y='Frequency', data=time_series_data)\n",
    "plt.title('Trend of Hate Crimes Over the Years')\n",
    "plt.xlabel('Complaint Year')\n",
    "plt.ylabel('Frequency')\n",
    "plt.show()"
   ]
  },
  {
   "cell_type": "code",
   "execution_count": null,
   "id": "38ffd7bb",
   "metadata": {},
   "outputs": [],
   "source": []
  }
 ],
 "metadata": {
  "kernelspec": {
   "display_name": "Python 3 (ipykernel)",
   "language": "python",
   "name": "python3"
  },
  "language_info": {
   "codemirror_mode": {
    "name": "ipython",
    "version": 3
   },
   "file_extension": ".py",
   "mimetype": "text/x-python",
   "name": "python",
   "nbconvert_exporter": "python",
   "pygments_lexer": "ipython3",
   "version": "3.9.13"
  }
 },
 "nbformat": 4,
 "nbformat_minor": 5
}
