{
 "cells": [
  {
   "cell_type": "markdown",
   "id": "0a7e8744",
   "metadata": {},
   "source": [
    "# Importing the necessary libraries "
   ]
  },
  {
   "cell_type": "code",
   "execution_count": 126,
   "id": "5f2e5403",
   "metadata": {},
   "outputs": [],
   "source": [
    "import pandas as pd\n",
    "import numpy as np\n",
    "import matplotlib.pyplot as plt\n",
    "from sklearn.preprocessing import StandardScaler\n",
    "from sklearn.decomposition import PCA"
   ]
  },
  {
   "cell_type": "markdown",
   "id": "8766ba83",
   "metadata": {},
   "source": [
    "# Loading the dataset"
   ]
  },
  {
   "cell_type": "code",
   "execution_count": 127,
   "id": "8631a0fe",
   "metadata": {},
   "outputs": [],
   "source": [
    "data = pd.read_csv('C:\\\\Users\\\\nuzha\\\\Desktop\\\\Result_Auto_Prova.csv')"
   ]
  },
  {
   "cell_type": "code",
   "execution_count": 128,
   "id": "aefa8608",
   "metadata": {},
   "outputs": [
    {
     "data": {
      "text/html": [
       "<div>\n",
       "<style scoped>\n",
       "    .dataframe tbody tr th:only-of-type {\n",
       "        vertical-align: middle;\n",
       "    }\n",
       "\n",
       "    .dataframe tbody tr th {\n",
       "        vertical-align: top;\n",
       "    }\n",
       "\n",
       "    .dataframe thead th {\n",
       "        text-align: right;\n",
       "    }\n",
       "</style>\n",
       "<table border=\"1\" class=\"dataframe\">\n",
       "  <thead>\n",
       "    <tr style=\"text-align: right;\">\n",
       "      <th></th>\n",
       "      <th>symboling</th>\n",
       "      <th>normalized-losses</th>\n",
       "      <th>make</th>\n",
       "      <th>aspiration</th>\n",
       "      <th>num-of-doors</th>\n",
       "      <th>body-style</th>\n",
       "      <th>drive-wheels</th>\n",
       "      <th>engine-location</th>\n",
       "      <th>wheel-base</th>\n",
       "      <th>length</th>\n",
       "      <th>...</th>\n",
       "      <th>horsepower</th>\n",
       "      <th>peak-rpm</th>\n",
       "      <th>city-mpg</th>\n",
       "      <th>highway-mpg</th>\n",
       "      <th>price</th>\n",
       "      <th>city-L/100km</th>\n",
       "      <th>highway-L/100km</th>\n",
       "      <th>horsepower-binned</th>\n",
       "      <th>fuel-type-diesel</th>\n",
       "      <th>fuel-type-gas</th>\n",
       "    </tr>\n",
       "  </thead>\n",
       "  <tbody>\n",
       "    <tr>\n",
       "      <th>0</th>\n",
       "      <td>3</td>\n",
       "      <td>121</td>\n",
       "      <td>alfa-romero</td>\n",
       "      <td>std</td>\n",
       "      <td>two</td>\n",
       "      <td>convertible</td>\n",
       "      <td>rwd</td>\n",
       "      <td>front</td>\n",
       "      <td>88.6</td>\n",
       "      <td>0.811148</td>\n",
       "      <td>...</td>\n",
       "      <td>111.0</td>\n",
       "      <td>5000.0</td>\n",
       "      <td>21</td>\n",
       "      <td>27</td>\n",
       "      <td>13495</td>\n",
       "      <td>11.190476</td>\n",
       "      <td>9.370370</td>\n",
       "      <td>low</td>\n",
       "      <td>0</td>\n",
       "      <td>1</td>\n",
       "    </tr>\n",
       "    <tr>\n",
       "      <th>1</th>\n",
       "      <td>3</td>\n",
       "      <td>121</td>\n",
       "      <td>alfa-romero</td>\n",
       "      <td>std</td>\n",
       "      <td>two</td>\n",
       "      <td>convertible</td>\n",
       "      <td>rwd</td>\n",
       "      <td>front</td>\n",
       "      <td>88.6</td>\n",
       "      <td>0.811148</td>\n",
       "      <td>...</td>\n",
       "      <td>111.0</td>\n",
       "      <td>5000.0</td>\n",
       "      <td>21</td>\n",
       "      <td>27</td>\n",
       "      <td>16500</td>\n",
       "      <td>11.190476</td>\n",
       "      <td>9.370370</td>\n",
       "      <td>low</td>\n",
       "      <td>0</td>\n",
       "      <td>1</td>\n",
       "    </tr>\n",
       "    <tr>\n",
       "      <th>2</th>\n",
       "      <td>1</td>\n",
       "      <td>121</td>\n",
       "      <td>alfa-romero</td>\n",
       "      <td>std</td>\n",
       "      <td>two</td>\n",
       "      <td>hatchback</td>\n",
       "      <td>rwd</td>\n",
       "      <td>front</td>\n",
       "      <td>94.5</td>\n",
       "      <td>0.822681</td>\n",
       "      <td>...</td>\n",
       "      <td>154.0</td>\n",
       "      <td>5000.0</td>\n",
       "      <td>19</td>\n",
       "      <td>26</td>\n",
       "      <td>16500</td>\n",
       "      <td>12.368421</td>\n",
       "      <td>9.730769</td>\n",
       "      <td>medium</td>\n",
       "      <td>0</td>\n",
       "      <td>1</td>\n",
       "    </tr>\n",
       "    <tr>\n",
       "      <th>3</th>\n",
       "      <td>2</td>\n",
       "      <td>164</td>\n",
       "      <td>audi</td>\n",
       "      <td>std</td>\n",
       "      <td>four</td>\n",
       "      <td>sedan</td>\n",
       "      <td>fwd</td>\n",
       "      <td>front</td>\n",
       "      <td>99.8</td>\n",
       "      <td>0.848630</td>\n",
       "      <td>...</td>\n",
       "      <td>102.0</td>\n",
       "      <td>5500.0</td>\n",
       "      <td>24</td>\n",
       "      <td>30</td>\n",
       "      <td>13950</td>\n",
       "      <td>9.791667</td>\n",
       "      <td>8.433333</td>\n",
       "      <td>low</td>\n",
       "      <td>0</td>\n",
       "      <td>1</td>\n",
       "    </tr>\n",
       "    <tr>\n",
       "      <th>4</th>\n",
       "      <td>2</td>\n",
       "      <td>164</td>\n",
       "      <td>audi</td>\n",
       "      <td>std</td>\n",
       "      <td>four</td>\n",
       "      <td>sedan</td>\n",
       "      <td>4wd</td>\n",
       "      <td>front</td>\n",
       "      <td>99.4</td>\n",
       "      <td>0.848630</td>\n",
       "      <td>...</td>\n",
       "      <td>115.0</td>\n",
       "      <td>5500.0</td>\n",
       "      <td>18</td>\n",
       "      <td>22</td>\n",
       "      <td>17450</td>\n",
       "      <td>13.055556</td>\n",
       "      <td>11.500000</td>\n",
       "      <td>low</td>\n",
       "      <td>0</td>\n",
       "      <td>1</td>\n",
       "    </tr>\n",
       "  </tbody>\n",
       "</table>\n",
       "<p>5 rows × 30 columns</p>\n",
       "</div>"
      ],
      "text/plain": [
       "   symboling  normalized-losses         make aspiration num-of-doors  \\\n",
       "0          3                121  alfa-romero        std          two   \n",
       "1          3                121  alfa-romero        std          two   \n",
       "2          1                121  alfa-romero        std          two   \n",
       "3          2                164         audi        std         four   \n",
       "4          2                164         audi        std         four   \n",
       "\n",
       "    body-style drive-wheels engine-location  wheel-base    length  ...  \\\n",
       "0  convertible          rwd           front        88.6  0.811148  ...   \n",
       "1  convertible          rwd           front        88.6  0.811148  ...   \n",
       "2    hatchback          rwd           front        94.5  0.822681  ...   \n",
       "3        sedan          fwd           front        99.8  0.848630  ...   \n",
       "4        sedan          4wd           front        99.4  0.848630  ...   \n",
       "\n",
       "   horsepower  peak-rpm  city-mpg highway-mpg  price  city-L/100km  \\\n",
       "0       111.0    5000.0        21          27  13495     11.190476   \n",
       "1       111.0    5000.0        21          27  16500     11.190476   \n",
       "2       154.0    5000.0        19          26  16500     12.368421   \n",
       "3       102.0    5500.0        24          30  13950      9.791667   \n",
       "4       115.0    5500.0        18          22  17450     13.055556   \n",
       "\n",
       "  highway-L/100km  horsepower-binned  fuel-type-diesel  fuel-type-gas  \n",
       "0        9.370370                low                 0              1  \n",
       "1        9.370370                low                 0              1  \n",
       "2        9.730769             medium                 0              1  \n",
       "3        8.433333                low                 0              1  \n",
       "4       11.500000                low                 0              1  \n",
       "\n",
       "[5 rows x 30 columns]"
      ]
     },
     "execution_count": 128,
     "metadata": {},
     "output_type": "execute_result"
    }
   ],
   "source": [
    "# Displaying the first 5 rows of the dataset\n",
    "data.head()"
   ]
  },
  {
   "cell_type": "markdown",
   "id": "a5009d34",
   "metadata": {},
   "source": [
    "The dataset contains various features about automobiles, including their make, body style, engine type, horsepower, and many more. The target variable I am interested in predicting is price. To proceed with PCA (Principal Component Analysis), I need to preprocess the data: Handle missing values, Convert categorical variables into numerical format, Normalize/standardize the data. After preprocessing, I will apply PCA and identify the features that contribute the most to predicting the price of an automobile."
   ]
  },
  {
   "cell_type": "markdown",
   "id": "4e799646",
   "metadata": {},
   "source": [
    "# Pre-processing and cleaning the data"
   ]
  },
  {
   "cell_type": "code",
   "execution_count": 129,
   "id": "41f9f2a0",
   "metadata": {},
   "outputs": [],
   "source": [
    "# Checking for missing values\n",
    "missing_data = data.isnull().sum()"
   ]
  },
  {
   "cell_type": "code",
   "execution_count": 130,
   "id": "7047e5e3",
   "metadata": {},
   "outputs": [
    {
     "data": {
      "text/plain": [
       "Series([], dtype: int64)"
      ]
     },
     "execution_count": 130,
     "metadata": {},
     "output_type": "execute_result"
    }
   ],
   "source": [
    "# Displaying columns with missing values\n",
    "missing_data[missing_data > 0]"
   ]
  },
  {
   "cell_type": "code",
   "execution_count": 131,
   "id": "b61da56c",
   "metadata": {},
   "outputs": [
    {
     "data": {
      "text/plain": [
       "symboling            0.0\n",
       "normalized-losses    0.0\n",
       "make                 0.0\n",
       "aspiration           0.0\n",
       "num-of-doors         0.0\n",
       "body-style           0.0\n",
       "drive-wheels         0.0\n",
       "engine-location      0.0\n",
       "wheel-base           0.0\n",
       "length               0.0\n",
       "width                0.0\n",
       "height               0.0\n",
       "curb-weight          0.0\n",
       "engine-type          0.0\n",
       "num-of-cylinders     0.0\n",
       "engine-size          0.0\n",
       "fuel-system          0.0\n",
       "bore                 0.0\n",
       "stroke               0.0\n",
       "compression-ratio    0.0\n",
       "horsepower           0.0\n",
       "peak-rpm             0.0\n",
       "city-mpg             0.0\n",
       "highway-mpg          0.0\n",
       "price                0.0\n",
       "city-L/100km         0.0\n",
       "highway-L/100km      0.0\n",
       "horsepower-binned    0.0\n",
       "fuel-type-diesel     0.0\n",
       "fuel-type-gas        0.0\n",
       "dtype: float64"
      ]
     },
     "execution_count": 131,
     "metadata": {},
     "output_type": "execute_result"
    }
   ],
   "source": [
    "# Confirming no missing values \n",
    "data.isnull().mean()*100"
   ]
  },
  {
   "cell_type": "code",
   "execution_count": 132,
   "id": "7702fdaf",
   "metadata": {},
   "outputs": [],
   "source": [
    "# Dropping the 'price' column as it is my target variable\n",
    "X = data.drop(columns=['price'])"
   ]
  },
  {
   "cell_type": "code",
   "execution_count": 133,
   "id": "f1ef03b2",
   "metadata": {},
   "outputs": [],
   "source": [
    "# Encoding categorical variables\n",
    "X_encoded = pd.get_dummies(X)"
   ]
  },
  {
   "cell_type": "code",
   "execution_count": 134,
   "id": "8ad81101",
   "metadata": {},
   "outputs": [],
   "source": [
    "# Standardizing the data\n",
    "scaler = StandardScaler()\n",
    "X_standardized = scaler.fit_transform(X_encoded)"
   ]
  },
  {
   "cell_type": "code",
   "execution_count": 135,
   "id": "0b459d10",
   "metadata": {},
   "outputs": [
    {
     "data": {
      "text/html": [
       "<div>\n",
       "<style scoped>\n",
       "    .dataframe tbody tr th:only-of-type {\n",
       "        vertical-align: middle;\n",
       "    }\n",
       "\n",
       "    .dataframe tbody tr th {\n",
       "        vertical-align: top;\n",
       "    }\n",
       "\n",
       "    .dataframe thead th {\n",
       "        text-align: right;\n",
       "    }\n",
       "</style>\n",
       "<table border=\"1\" class=\"dataframe\">\n",
       "  <thead>\n",
       "    <tr style=\"text-align: right;\">\n",
       "      <th></th>\n",
       "      <th>symboling</th>\n",
       "      <th>normalized-losses</th>\n",
       "      <th>wheel-base</th>\n",
       "      <th>length</th>\n",
       "      <th>width</th>\n",
       "      <th>height</th>\n",
       "      <th>curb-weight</th>\n",
       "      <th>engine-size</th>\n",
       "      <th>bore</th>\n",
       "      <th>stroke</th>\n",
       "      <th>...</th>\n",
       "      <th>fuel-system_2bbl</th>\n",
       "      <th>fuel-system_4bbl</th>\n",
       "      <th>fuel-system_idi</th>\n",
       "      <th>fuel-system_mfi</th>\n",
       "      <th>fuel-system_mpfi</th>\n",
       "      <th>fuel-system_spdi</th>\n",
       "      <th>fuel-system_spfi</th>\n",
       "      <th>horsepower-binned_high</th>\n",
       "      <th>horsepower-binned_low</th>\n",
       "      <th>horsepower-binned_medium</th>\n",
       "    </tr>\n",
       "  </thead>\n",
       "  <tbody>\n",
       "    <tr>\n",
       "      <th>0</th>\n",
       "      <td>1.730985</td>\n",
       "      <td>-0.002877</td>\n",
       "      <td>-1.733321</td>\n",
       "      <td>-0.467985</td>\n",
       "      <td>-0.878407</td>\n",
       "      <td>-2.098448</td>\n",
       "      <td>-0.030470</td>\n",
       "      <td>0.073467</td>\n",
       "      <td>0.504279</td>\n",
       "      <td>-1.887060</td>\n",
       "      <td>...</td>\n",
       "      <td>-0.656097</td>\n",
       "      <td>-0.118678</td>\n",
       "      <td>-0.328165</td>\n",
       "      <td>-0.068199</td>\n",
       "      <td>1.037749</td>\n",
       "      <td>-0.208514</td>\n",
       "      <td>-0.068199</td>\n",
       "      <td>-0.153937</td>\n",
       "      <td>0.555959</td>\n",
       "      <td>-0.520181</td>\n",
       "    </tr>\n",
       "    <tr>\n",
       "      <th>1</th>\n",
       "      <td>1.730985</td>\n",
       "      <td>-0.002877</td>\n",
       "      <td>-1.733321</td>\n",
       "      <td>-0.467985</td>\n",
       "      <td>-0.878407</td>\n",
       "      <td>-2.098448</td>\n",
       "      <td>-0.030470</td>\n",
       "      <td>0.073467</td>\n",
       "      <td>0.504279</td>\n",
       "      <td>-1.887060</td>\n",
       "      <td>...</td>\n",
       "      <td>-0.656097</td>\n",
       "      <td>-0.118678</td>\n",
       "      <td>-0.328165</td>\n",
       "      <td>-0.068199</td>\n",
       "      <td>1.037749</td>\n",
       "      <td>-0.208514</td>\n",
       "      <td>-0.068199</td>\n",
       "      <td>-0.153937</td>\n",
       "      <td>0.555959</td>\n",
       "      <td>-0.520181</td>\n",
       "    </tr>\n",
       "    <tr>\n",
       "      <th>2</th>\n",
       "      <td>0.139952</td>\n",
       "      <td>-0.002877</td>\n",
       "      <td>-0.742541</td>\n",
       "      <td>-0.272100</td>\n",
       "      <td>-0.210323</td>\n",
       "      <td>-0.616787</td>\n",
       "      <td>0.507232</td>\n",
       "      <td>0.617261</td>\n",
       "      <td>-2.440513</td>\n",
       "      <td>0.680740</td>\n",
       "      <td>...</td>\n",
       "      <td>-0.656097</td>\n",
       "      <td>-0.118678</td>\n",
       "      <td>-0.328165</td>\n",
       "      <td>-0.068199</td>\n",
       "      <td>1.037749</td>\n",
       "      <td>-0.208514</td>\n",
       "      <td>-0.068199</td>\n",
       "      <td>-0.153937</td>\n",
       "      <td>-1.798692</td>\n",
       "      <td>1.922408</td>\n",
       "    </tr>\n",
       "    <tr>\n",
       "      <th>3</th>\n",
       "      <td>0.935469</td>\n",
       "      <td>1.333074</td>\n",
       "      <td>0.147482</td>\n",
       "      <td>0.168641</td>\n",
       "      <td>0.123719</td>\n",
       "      <td>0.165201</td>\n",
       "      <td>-0.443033</td>\n",
       "      <td>-0.445609</td>\n",
       "      <td>-0.539445</td>\n",
       "      <td>0.453213</td>\n",
       "      <td>...</td>\n",
       "      <td>-0.656097</td>\n",
       "      <td>-0.118678</td>\n",
       "      <td>-0.328165</td>\n",
       "      <td>-0.068199</td>\n",
       "      <td>1.037749</td>\n",
       "      <td>-0.208514</td>\n",
       "      <td>-0.068199</td>\n",
       "      <td>-0.153937</td>\n",
       "      <td>0.555959</td>\n",
       "      <td>-0.520181</td>\n",
       "    </tr>\n",
       "    <tr>\n",
       "      <th>4</th>\n",
       "      <td>0.935469</td>\n",
       "      <td>1.333074</td>\n",
       "      <td>0.080310</td>\n",
       "      <td>0.168641</td>\n",
       "      <td>0.219160</td>\n",
       "      <td>0.165201</td>\n",
       "      <td>0.509187</td>\n",
       "      <td>0.221774</td>\n",
       "      <td>-0.539445</td>\n",
       "      <td>0.453213</td>\n",
       "      <td>...</td>\n",
       "      <td>-0.656097</td>\n",
       "      <td>-0.118678</td>\n",
       "      <td>-0.328165</td>\n",
       "      <td>-0.068199</td>\n",
       "      <td>1.037749</td>\n",
       "      <td>-0.208514</td>\n",
       "      <td>-0.068199</td>\n",
       "      <td>-0.153937</td>\n",
       "      <td>0.555959</td>\n",
       "      <td>-0.520181</td>\n",
       "    </tr>\n",
       "  </tbody>\n",
       "</table>\n",
       "<p>5 rows × 84 columns</p>\n",
       "</div>"
      ],
      "text/plain": [
       "   symboling  normalized-losses  wheel-base    length     width    height  \\\n",
       "0   1.730985          -0.002877   -1.733321 -0.467985 -0.878407 -2.098448   \n",
       "1   1.730985          -0.002877   -1.733321 -0.467985 -0.878407 -2.098448   \n",
       "2   0.139952          -0.002877   -0.742541 -0.272100 -0.210323 -0.616787   \n",
       "3   0.935469           1.333074    0.147482  0.168641  0.123719  0.165201   \n",
       "4   0.935469           1.333074    0.080310  0.168641  0.219160  0.165201   \n",
       "\n",
       "   curb-weight  engine-size      bore    stroke  ...  fuel-system_2bbl  \\\n",
       "0    -0.030470     0.073467  0.504279 -1.887060  ...         -0.656097   \n",
       "1    -0.030470     0.073467  0.504279 -1.887060  ...         -0.656097   \n",
       "2     0.507232     0.617261 -2.440513  0.680740  ...         -0.656097   \n",
       "3    -0.443033    -0.445609 -0.539445  0.453213  ...         -0.656097   \n",
       "4     0.509187     0.221774 -0.539445  0.453213  ...         -0.656097   \n",
       "\n",
       "   fuel-system_4bbl  fuel-system_idi  fuel-system_mfi  fuel-system_mpfi  \\\n",
       "0         -0.118678        -0.328165        -0.068199          1.037749   \n",
       "1         -0.118678        -0.328165        -0.068199          1.037749   \n",
       "2         -0.118678        -0.328165        -0.068199          1.037749   \n",
       "3         -0.118678        -0.328165        -0.068199          1.037749   \n",
       "4         -0.118678        -0.328165        -0.068199          1.037749   \n",
       "\n",
       "   fuel-system_spdi  fuel-system_spfi  horsepower-binned_high  \\\n",
       "0         -0.208514         -0.068199               -0.153937   \n",
       "1         -0.208514         -0.068199               -0.153937   \n",
       "2         -0.208514         -0.068199               -0.153937   \n",
       "3         -0.208514         -0.068199               -0.153937   \n",
       "4         -0.208514         -0.068199               -0.153937   \n",
       "\n",
       "   horsepower-binned_low  horsepower-binned_medium  \n",
       "0               0.555959                 -0.520181  \n",
       "1               0.555959                 -0.520181  \n",
       "2              -1.798692                  1.922408  \n",
       "3               0.555959                 -0.520181  \n",
       "4               0.555959                 -0.520181  \n",
       "\n",
       "[5 rows x 84 columns]"
      ]
     },
     "execution_count": 135,
     "metadata": {},
     "output_type": "execute_result"
    }
   ],
   "source": [
    "# Displaying the first 5 rows of the standardized data\n",
    "pd.DataFrame(X_standardized, columns=X_encoded.columns).head()"
   ]
  },
  {
   "cell_type": "code",
   "execution_count": 136,
   "id": "7f11541e",
   "metadata": {},
   "outputs": [],
   "source": [
    "# Applying PCA\n",
    "pca = PCA()\n",
    "X_pca = pca.fit_transform(X_standardized)"
   ]
  },
  {
   "cell_type": "code",
   "execution_count": 137,
   "id": "ab75292c",
   "metadata": {},
   "outputs": [],
   "source": [
    "# Explained variance ratio\n",
    "var_ratio = pca.explained_variance_ratio_"
   ]
  },
  {
   "cell_type": "code",
   "execution_count": 138,
   "id": "cfc7b300",
   "metadata": {},
   "outputs": [
    {
     "data": {
      "image/png": "[encoded data removed]",
      "text/plain": [
       "<Figure size 1000x600 with 1 Axes>"
      ]
     },
     "metadata": {},
     "output_type": "display_data"
    }
   ],
   "source": [
    "# Plotting the explained variance ratio for each component\n",
    "plt.figure(figsize=(10, 6))\n",
    "plt.bar(range(len(var_ratio)), var_ratio, alpha=0.5, align='center', label='Individual explained variance')\n",
    "plt.step(range(len(var_ratio)), np.cumsum(var_ratio), where='mid', label='Cumulative explained variance')\n",
    "plt.step(range(len(var_ratio)), np.cumsum(var_ratio), where='mid', label='Cumulative explained variance')\n",
    "plt.ylabel('Explained variance ratio')\n",
    "plt.xlabel('Principal components')\n",
    "plt.legend(loc='best')\n",
    "plt.tight_layout()\n",
    "plt.show()"
   ]
  },
  {
   "cell_type": "markdown",
   "id": "12690146",
   "metadata": {},
   "source": [
    "The plot above illustrates the explained variance ratio of each principal component and their cumulative explained variance. The first few principal components show a significant amount of variance in the data. As we move to higher-numbered components, their contribution to the explained variance decreases. To determine if one or two features can predict 75% of the price of the vehicle, I would like to look at the cumulative explained variance for the first two principal components."
   ]
  },
  {
   "cell_type": "code",
   "execution_count": 139,
   "id": "a990a0d1",
   "metadata": {},
   "outputs": [
    {
     "data": {
      "text/plain": [
       "array([0.16031993, 0.24909608])"
      ]
     },
     "execution_count": 139,
     "metadata": {},
     "output_type": "execute_result"
    }
   ],
   "source": [
    "# Cumulative explained variance for the first two components\n",
    "two_comp = np.cumsum(explained_variance_ratio)[:2]\n",
    "two_comp"
   ]
  },
  {
   "cell_type": "markdown",
   "id": "1ad93513",
   "metadata": {},
   "source": [
    "The first two principal components together explain approximately 24.9% of the variance in the dataset. This is significantly less than the 75% threshold of the project requirement. To reach a cumulative explained variance of 75%, I will need to consider more principal components."
   ]
  },
  {
   "cell_type": "code",
   "execution_count": 140,
   "id": "788bc9e4",
   "metadata": {},
   "outputs": [
    {
     "data": {
      "text/plain": [
       "21"
      ]
     },
     "execution_count": 140,
     "metadata": {},
     "output_type": "execute_result"
    }
   ],
   "source": [
    "# Number of components needed to explain at least 75% of the variance\n",
    "var_75 = np.where(np.cumsum(explained_variance_ratio) >= 0.75)[0][0] + 1  \n",
    "var_75"
   ]
  },
  {
   "cell_type": "markdown",
   "id": "1a235c64",
   "metadata": {},
   "source": [
    "To capture at least 75% of the variance in the dataset, I need 21 principal components. But my goal is to identify which original features contribute the most to these principal components, for this I will examine the absolute values of the PCA loadings for the first few components. "
   ]
  },
  {
   "cell_type": "code",
   "execution_count": 141,
   "id": "f2fa076f",
   "metadata": {},
   "outputs": [],
   "source": [
    "# Getting the PCA loadings for the first principal component\n",
    "comp = pca.components_[0]"
   ]
  },
  {
   "cell_type": "code",
   "execution_count": 142,
   "id": "9acc38a5",
   "metadata": {},
   "outputs": [],
   "source": [
    "# Getting the features with the highest absolute loadings for the first component\n",
    "top_comp = pd.Series(comp, index=X_encoded.columns).abs().sort_values(ascending=False)"
   ]
  },
  {
   "cell_type": "code",
   "execution_count": 143,
   "id": "48a80e66",
   "metadata": {},
   "outputs": [
    {
     "data": {
      "text/plain": [
       "curb-weight        0.258089\n",
       "highway-L/100km    0.248038\n",
       "city-L/100km       0.242190\n",
       "horsepower         0.237673\n",
       "highway-mpg        0.237466\n",
       "dtype: float64"
      ]
     },
     "execution_count": 143,
     "metadata": {},
     "output_type": "execute_result"
    }
   ],
   "source": [
    "# Displaying the top features for the first component\n",
    "top_comp.head()"
   ]
  },
  {
   "cell_type": "markdown",
   "id": "516a6114",
   "metadata": {},
   "source": [
    "For the first principal component, the features with the highest absolute loadings are as follows: 1)curb-weight 2)highway-L/100km 3)city-L/100km 4)horsepower 5)highway-mpg. Since I am interested in finding one or two features that predict a significant portion of the price of a vehicle, I will choose curb-weight and highway-L/100km because they have the highest loadings for the first principal component. However, relying on these two features will not contribute to the 75% variance threshold. Instead, this is an approximation based on the most significant contributors to the first principal component. To illustrate further, I would like to visualize their relationship with the price using scatter plots."
   ]
  },
  {
   "cell_type": "code",
   "execution_count": 144,
   "id": "a1a75e2d",
   "metadata": {},
   "outputs": [
    {
     "data": {
      "image/png": "[encoded data removed]",
      "text/plain": [
       "<Figure size 1500x500 with 2 Axes>"
      ]
     },
     "metadata": {},
     "output_type": "display_data"
    }
   ],
   "source": [
    "# Plotting scatter plots for 'curb-weight' and 'highway-L/100km' against 'price'\n",
    "fig, ax = plt.subplots(1, 2, figsize=(15, 5))\n",
    "\n",
    "# Scatter plot for 'curb-weight'\n",
    "ax[0].scatter(data['curb-weight'], data['price'], alpha=0.6)\n",
    "ax[0].set_title('Price vs. Curb-Weight')\n",
    "ax[0].set_xlabel('Curb-Weight')\n",
    "ax[0].set_ylabel('Price')\n",
    "\n",
    "# Scatter plot for 'highway-L/100km'\n",
    "ax[1].scatter(data['highway-L/100km'], data['price'], alpha=0.6, color='red')\n",
    "ax[1].set_title('Price vs. Highway-L/100km')\n",
    "ax[1].set_xlabel('Highway-L/100km')\n",
    "ax[1].set_ylabel('Price')\n",
    "\n",
    "plt.tight_layout()\n",
    "plt.show()"
   ]
  },
  {
   "cell_type": "markdown",
   "id": "068944ee",
   "metadata": {},
   "source": [
    "The scatter plots demonstrate the relationship between price and the two features:\n",
    "\n",
    "Curb-Weight: There is a positive linear relationship between curb-weight and price. As curb-weight increases, the price of the automobile also increases.\n",
    "\n",
    "Highway-L/100km: There seems to be a somewhat positive linear relationship with price. As the highway-L/100km (which indicates fuel consumption) increases, the price also seems to increase, although there is a bit more spread.\n",
    "\n",
    "In conclusion, curb-weight and highway-L/100km are significant contributors to the first principal component, but relying solely on them will not capture 75% of the variance. To achieve that level of explained variance, I would need to consider many more features (as indicated by the 21 principal components earlier)."
   ]
  }
 ],
 "metadata": {
  "kernelspec": {
   "display_name": "Python 3 (ipykernel)",
   "language": "python",
   "name": "python3"
  },
  "language_info": {
   "codemirror_mode": {
    "name": "ipython",
    "version": 3
   },
   "file_extension": ".py",
   "mimetype": "text/x-python",
   "name": "python",
   "nbconvert_exporter": "python",
   "pygments_lexer": "ipython3",
   "version": "3.9.13"
  }
 },
 "nbformat": 4,
 "nbformat_minor": 5
}
