{
 "cells": [
  {
   "cell_type": "markdown",
   "id": "cb51c9eb",
   "metadata": {},
   "source": [
    "# Midterm Project CS675 Scaleable Database\n",
    "\n",
    "\n",
    " \n",
    "### Analyzing New York City Data utilizing SQL, Python, and Version Control\n",
    "\n",
    "\n",
    "## Project Overview\n",
    "\n",
    "**The main goal of this project is to analyze three NYPD datasets to gain insights about public safety in New York City. Data Science tools such Python, SQL, and Git to clean, retrieve, and analyze data on the following dataset**\n",
    "\n",
    "\n",
    "\n",
    "\n",
    "**Project Goal**: - The end goal is to uncover patterns and trends that can help law enforcement and policymakers make data-driven decisions and keep New York City residence safety and reduce the crime\n",
    "\n",
    "#### Data Sets use for this project __(https://catalog.data.gov/dataset)__\n",
    "\n",
    "1. NYPD Hatecrime\n",
    "2. NYPD Shooting\n",
    "3. NYPD Arrest\n",
    "\n",
    "### Team Members: Nuzhut Prova, Ramaya and Sunita Inderjit, Srikant Reddy"
   ]
  },
  {
   "cell_type": "markdown",
   "id": "85b918dc",
   "metadata": {},
   "source": [
    "## Part 2\n",
    "\n",
    "\n",
    "1. Load three dataset from New York City\n",
    "2. Merge All three dataset\n",
    "3. Perfrom SQL query using Sqlite database\n",
    "\n",
    "\n",
    "\n"
   ]
  },
  {
   "cell_type": "markdown",
   "id": "44448066",
   "metadata": {},
   "source": [
    "# NYPD Arrest Data"
   ]
  },
  {
   "cell_type": "code",
   "execution_count": 3,
   "id": "c715c608",
   "metadata": {},
   "outputs": [],
   "source": [
    "# import the necessary Libraries\n",
    "\n",
    "import pandas as pd\n",
    "import numpy as np"
   ]
  },
  {
   "cell_type": "code",
   "execution_count": 4,
   "id": "f982a642",
   "metadata": {},
   "outputs": [
    {
     "data": {
      "text/html": [
       "<div>\n",
       "<style scoped>\n",
       "    .dataframe tbody tr th:only-of-type {\n",
       "        vertical-align: middle;\n",
       "    }\n",
       "\n",
       "    .dataframe tbody tr th {\n",
       "        vertical-align: top;\n",
       "    }\n",
       "\n",
       "    .dataframe thead th {\n",
       "        text-align: right;\n",
       "    }\n",
       "</style>\n",
       "<table border=\"1\" class=\"dataframe\">\n",
       "  <thead>\n",
       "    <tr style=\"text-align: right;\">\n",
       "      <th></th>\n",
       "      <th>ARREST_KEY</th>\n",
       "      <th>ARREST_DATE</th>\n",
       "      <th>PD_CD</th>\n",
       "      <th>PD_DESC</th>\n",
       "      <th>KY_CD</th>\n",
       "      <th>OFNS_DESC</th>\n",
       "      <th>LAW_CODE</th>\n",
       "      <th>LAW_CAT_CD</th>\n",
       "      <th>ARREST_BORO</th>\n",
       "      <th>ARREST_PRECINCT</th>\n",
       "      <th>JURISDICTION_CODE</th>\n",
       "      <th>AGE_GROUP</th>\n",
       "      <th>PERP_SEX</th>\n",
       "      <th>PERP_RACE</th>\n",
       "      <th>X_COORD_CD</th>\n",
       "      <th>Y_COORD_CD</th>\n",
       "      <th>Latitude</th>\n",
       "      <th>Longitude</th>\n",
       "      <th>New Georeferenced Column</th>\n",
       "    </tr>\n",
       "  </thead>\n",
       "  <tbody>\n",
       "    <tr>\n",
       "      <th>0</th>\n",
       "      <td>261209118</td>\n",
       "      <td>01/01/2023</td>\n",
       "      <td>109</td>\n",
       "      <td>ASSAULT 2,1,UNCLASSIFIED</td>\n",
       "      <td>106.0</td>\n",
       "      <td>FELONY ASSAULT</td>\n",
       "      <td>PL 1200501</td>\n",
       "      <td>F</td>\n",
       "      <td>K</td>\n",
       "      <td>77</td>\n",
       "      <td>0</td>\n",
       "      <td>45-64</td>\n",
       "      <td>F</td>\n",
       "      <td>BLACK</td>\n",
       "      <td>999335</td>\n",
       "      <td>186085</td>\n",
       "      <td>40.677426</td>\n",
       "      <td>-73.945615</td>\n",
       "      <td>POINT (-73.945615 40.677426)</td>\n",
       "    </tr>\n",
       "    <tr>\n",
       "      <th>1</th>\n",
       "      <td>262984267</td>\n",
       "      <td>02/03/2023</td>\n",
       "      <td>515</td>\n",
       "      <td>CONTROLLED SUBSTANCE,SALE 3</td>\n",
       "      <td>117.0</td>\n",
       "      <td>DANGEROUS DRUGS</td>\n",
       "      <td>PL 2203901</td>\n",
       "      <td>F</td>\n",
       "      <td>K</td>\n",
       "      <td>73</td>\n",
       "      <td>0</td>\n",
       "      <td>25-44</td>\n",
       "      <td>M</td>\n",
       "      <td>BLACK</td>\n",
       "      <td>1009318</td>\n",
       "      <td>178259</td>\n",
       "      <td>40.655923</td>\n",
       "      <td>-73.909650</td>\n",
       "      <td>POINT (-73.90965 40.655923)</td>\n",
       "    </tr>\n",
       "    <tr>\n",
       "      <th>2</th>\n",
       "      <td>263664549</td>\n",
       "      <td>02/15/2023</td>\n",
       "      <td>105</td>\n",
       "      <td>STRANGULATION 1ST</td>\n",
       "      <td>106.0</td>\n",
       "      <td>FELONY ASSAULT</td>\n",
       "      <td>PL 1211200</td>\n",
       "      <td>F</td>\n",
       "      <td>K</td>\n",
       "      <td>62</td>\n",
       "      <td>0</td>\n",
       "      <td>25-44</td>\n",
       "      <td>M</td>\n",
       "      <td>WHITE</td>\n",
       "      <td>982272</td>\n",
       "      <td>158771</td>\n",
       "      <td>40.602468</td>\n",
       "      <td>-74.007120</td>\n",
       "      <td>POINT (-74.00712 40.602468)</td>\n",
       "    </tr>\n",
       "    <tr>\n",
       "      <th>3</th>\n",
       "      <td>261345231</td>\n",
       "      <td>01/04/2023</td>\n",
       "      <td>105</td>\n",
       "      <td>STRANGULATION 1ST</td>\n",
       "      <td>106.0</td>\n",
       "      <td>FELONY ASSAULT</td>\n",
       "      <td>PL 1211200</td>\n",
       "      <td>F</td>\n",
       "      <td>M</td>\n",
       "      <td>32</td>\n",
       "      <td>0</td>\n",
       "      <td>25-44</td>\n",
       "      <td>M</td>\n",
       "      <td>BLACK</td>\n",
       "      <td>999899</td>\n",
       "      <td>238684</td>\n",
       "      <td>40.821797</td>\n",
       "      <td>-73.943457</td>\n",
       "      <td>POINT (-73.943457 40.821797)</td>\n",
       "    </tr>\n",
       "    <tr>\n",
       "      <th>4</th>\n",
       "      <td>263536618</td>\n",
       "      <td>02/13/2023</td>\n",
       "      <td>109</td>\n",
       "      <td>ASSAULT 2,1,UNCLASSIFIED</td>\n",
       "      <td>106.0</td>\n",
       "      <td>FELONY ASSAULT</td>\n",
       "      <td>PL 12005WX</td>\n",
       "      <td>F</td>\n",
       "      <td>K</td>\n",
       "      <td>71</td>\n",
       "      <td>0</td>\n",
       "      <td>25-44</td>\n",
       "      <td>M</td>\n",
       "      <td>BLACK</td>\n",
       "      <td>1001437</td>\n",
       "      <td>183080</td>\n",
       "      <td>40.669175</td>\n",
       "      <td>-73.938042</td>\n",
       "      <td>POINT (-73.938042 40.669175)</td>\n",
       "    </tr>\n",
       "  </tbody>\n",
       "</table>\n",
       "</div>"
      ],
      "text/plain": [
       "   ARREST_KEY ARREST_DATE  PD_CD                      PD_DESC  KY_CD  \\\n",
       "0   261209118  01/01/2023    109     ASSAULT 2,1,UNCLASSIFIED  106.0   \n",
       "1   262984267  02/03/2023    515  CONTROLLED SUBSTANCE,SALE 3  117.0   \n",
       "2   263664549  02/15/2023    105            STRANGULATION 1ST  106.0   \n",
       "3   261345231  01/04/2023    105            STRANGULATION 1ST  106.0   \n",
       "4   263536618  02/13/2023    109     ASSAULT 2,1,UNCLASSIFIED  106.0   \n",
       "\n",
       "         OFNS_DESC    LAW_CODE LAW_CAT_CD ARREST_BORO  ARREST_PRECINCT  \\\n",
       "0   FELONY ASSAULT  PL 1200501          F           K               77   \n",
       "1  DANGEROUS DRUGS  PL 2203901          F           K               73   \n",
       "2   FELONY ASSAULT  PL 1211200          F           K               62   \n",
       "3   FELONY ASSAULT  PL 1211200          F           M               32   \n",
       "4   FELONY ASSAULT  PL 12005WX          F           K               71   \n",
       "\n",
       "   JURISDICTION_CODE AGE_GROUP PERP_SEX PERP_RACE  X_COORD_CD  Y_COORD_CD  \\\n",
       "0                  0     45-64        F     BLACK      999335      186085   \n",
       "1                  0     25-44        M     BLACK     1009318      178259   \n",
       "2                  0     25-44        M     WHITE      982272      158771   \n",
       "3                  0     25-44        M     BLACK      999899      238684   \n",
       "4                  0     25-44        M     BLACK     1001437      183080   \n",
       "\n",
       "    Latitude  Longitude      New Georeferenced Column  \n",
       "0  40.677426 -73.945615  POINT (-73.945615 40.677426)  \n",
       "1  40.655923 -73.909650   POINT (-73.90965 40.655923)  \n",
       "2  40.602468 -74.007120   POINT (-74.00712 40.602468)  \n",
       "3  40.821797 -73.943457  POINT (-73.943457 40.821797)  \n",
       "4  40.669175 -73.938042  POINT (-73.938042 40.669175)  "
      ]
     },
     "execution_count": 4,
     "metadata": {},
     "output_type": "execute_result"
    }
   ],
   "source": [
    "# Read in and view data\n",
    "\n",
    "arrest = pd.read_csv(\"NYPD_Arrest_Data__Year_to_Date_.csv\")\n",
    "\n",
    "arrest.head()"
   ]
  },
  {
   "cell_type": "code",
   "execution_count": 5,
   "id": "070d4b72",
   "metadata": {},
   "outputs": [
    {
     "data": {
      "text/plain": [
       "(170095, 19)"
      ]
     },
     "execution_count": 5,
     "metadata": {},
     "output_type": "execute_result"
    }
   ],
   "source": [
    "# shape of data\n",
    "\n",
    "arrest.shape"
   ]
  },
  {
   "cell_type": "code",
   "execution_count": 6,
   "id": "dac50486",
   "metadata": {},
   "outputs": [
    {
     "data": {
      "text/plain": [
       "Index(['ARREST_KEY', 'ARREST_DATE', 'PD_CD', 'PD_DESC', 'KY_CD', 'OFNS_DESC',\n",
       "       'LAW_CODE', 'LAW_CAT_CD', 'ARREST_BORO', 'ARREST_PRECINCT',\n",
       "       'JURISDICTION_CODE', 'AGE_GROUP', 'PERP_SEX', 'PERP_RACE', 'X_COORD_CD',\n",
       "       'Y_COORD_CD', 'Latitude', 'Longitude', 'New Georeferenced Column'],\n",
       "      dtype='object')"
      ]
     },
     "execution_count": 6,
     "metadata": {},
     "output_type": "execute_result"
    }
   ],
   "source": [
    "# names of columns\n",
    "\n",
    "arrest.columns"
   ]
  },
  {
   "cell_type": "code",
   "execution_count": 7,
   "id": "668fb27a",
   "metadata": {},
   "outputs": [
    {
     "name": "stdout",
     "output_type": "stream",
     "text": [
      "Index(['ID', 'ARREST_DATE', 'PD_CD', 'PD_DESC', 'KY_CD', 'OFNS_DESC',\n",
      "       'LAW_CAT_CD', 'ARREST_BORO', 'ARREST_PRECINCT', 'JURISDICTION_CODE',\n",
      "       'AGE_GROUP', 'PERP_SEX', 'PERP_RACE', 'New Georeferenced Column'],\n",
      "      dtype='object')\n"
     ]
    }
   ],
   "source": [
    "\n",
    "# Drop columns \n",
    "drop_cols = ['X_COORD_CD', 'Y_COORD_CD', 'Latitude', 'Longitude', 'LAW_CODE']\n",
    "arrest.drop(columns=drop_cols, inplace=True)\n",
    "\n",
    "# Rename column\n",
    "arrest.rename(columns={'ARREST_KEY':'ID'}, inplace=True)\n",
    "\n",
    "print(arrest.columns)"
   ]
  },
  {
   "cell_type": "code",
   "execution_count": 8,
   "id": "cc76cb7a",
   "metadata": {},
   "outputs": [
    {
     "data": {
      "text/html": [
       "<div>\n",
       "<style scoped>\n",
       "    .dataframe tbody tr th:only-of-type {\n",
       "        vertical-align: middle;\n",
       "    }\n",
       "\n",
       "    .dataframe tbody tr th {\n",
       "        vertical-align: top;\n",
       "    }\n",
       "\n",
       "    .dataframe thead th {\n",
       "        text-align: right;\n",
       "    }\n",
       "</style>\n",
       "<table border=\"1\" class=\"dataframe\">\n",
       "  <thead>\n",
       "    <tr style=\"text-align: right;\">\n",
       "      <th></th>\n",
       "      <th>ID</th>\n",
       "      <th>ARREST_DATE</th>\n",
       "      <th>PD_CD</th>\n",
       "      <th>PD_DESC</th>\n",
       "      <th>KY_CD</th>\n",
       "      <th>OFNS_DESC</th>\n",
       "      <th>LAW_CAT_CD</th>\n",
       "      <th>ARREST_BORO</th>\n",
       "      <th>ARREST_PRECINCT</th>\n",
       "      <th>JURISDICTION_CODE</th>\n",
       "      <th>AGE_GROUP</th>\n",
       "      <th>PERP_SEX</th>\n",
       "      <th>PERP_RACE</th>\n",
       "      <th>New Georeferenced Column</th>\n",
       "    </tr>\n",
       "  </thead>\n",
       "  <tbody>\n",
       "    <tr>\n",
       "      <th>0</th>\n",
       "      <td>261209118</td>\n",
       "      <td>01/01/2023</td>\n",
       "      <td>109</td>\n",
       "      <td>ASSAULT 2,1,UNCLASSIFIED</td>\n",
       "      <td>106.0</td>\n",
       "      <td>FELONY ASSAULT</td>\n",
       "      <td>F</td>\n",
       "      <td>K</td>\n",
       "      <td>77</td>\n",
       "      <td>0</td>\n",
       "      <td>45-64</td>\n",
       "      <td>F</td>\n",
       "      <td>BLACK</td>\n",
       "      <td>POINT (-73.945615 40.677426)</td>\n",
       "    </tr>\n",
       "    <tr>\n",
       "      <th>1</th>\n",
       "      <td>262984267</td>\n",
       "      <td>02/03/2023</td>\n",
       "      <td>515</td>\n",
       "      <td>CONTROLLED SUBSTANCE,SALE 3</td>\n",
       "      <td>117.0</td>\n",
       "      <td>DANGEROUS DRUGS</td>\n",
       "      <td>F</td>\n",
       "      <td>K</td>\n",
       "      <td>73</td>\n",
       "      <td>0</td>\n",
       "      <td>25-44</td>\n",
       "      <td>M</td>\n",
       "      <td>BLACK</td>\n",
       "      <td>POINT (-73.90965 40.655923)</td>\n",
       "    </tr>\n",
       "    <tr>\n",
       "      <th>2</th>\n",
       "      <td>263664549</td>\n",
       "      <td>02/15/2023</td>\n",
       "      <td>105</td>\n",
       "      <td>STRANGULATION 1ST</td>\n",
       "      <td>106.0</td>\n",
       "      <td>FELONY ASSAULT</td>\n",
       "      <td>F</td>\n",
       "      <td>K</td>\n",
       "      <td>62</td>\n",
       "      <td>0</td>\n",
       "      <td>25-44</td>\n",
       "      <td>M</td>\n",
       "      <td>WHITE</td>\n",
       "      <td>POINT (-74.00712 40.602468)</td>\n",
       "    </tr>\n",
       "    <tr>\n",
       "      <th>3</th>\n",
       "      <td>261345231</td>\n",
       "      <td>01/04/2023</td>\n",
       "      <td>105</td>\n",
       "      <td>STRANGULATION 1ST</td>\n",
       "      <td>106.0</td>\n",
       "      <td>FELONY ASSAULT</td>\n",
       "      <td>F</td>\n",
       "      <td>M</td>\n",
       "      <td>32</td>\n",
       "      <td>0</td>\n",
       "      <td>25-44</td>\n",
       "      <td>M</td>\n",
       "      <td>BLACK</td>\n",
       "      <td>POINT (-73.943457 40.821797)</td>\n",
       "    </tr>\n",
       "    <tr>\n",
       "      <th>4</th>\n",
       "      <td>263536618</td>\n",
       "      <td>02/13/2023</td>\n",
       "      <td>109</td>\n",
       "      <td>ASSAULT 2,1,UNCLASSIFIED</td>\n",
       "      <td>106.0</td>\n",
       "      <td>FELONY ASSAULT</td>\n",
       "      <td>F</td>\n",
       "      <td>K</td>\n",
       "      <td>71</td>\n",
       "      <td>0</td>\n",
       "      <td>25-44</td>\n",
       "      <td>M</td>\n",
       "      <td>BLACK</td>\n",
       "      <td>POINT (-73.938042 40.669175)</td>\n",
       "    </tr>\n",
       "  </tbody>\n",
       "</table>\n",
       "</div>"
      ],
      "text/plain": [
       "          ID ARREST_DATE  PD_CD                      PD_DESC  KY_CD  \\\n",
       "0  261209118  01/01/2023    109     ASSAULT 2,1,UNCLASSIFIED  106.0   \n",
       "1  262984267  02/03/2023    515  CONTROLLED SUBSTANCE,SALE 3  117.0   \n",
       "2  263664549  02/15/2023    105            STRANGULATION 1ST  106.0   \n",
       "3  261345231  01/04/2023    105            STRANGULATION 1ST  106.0   \n",
       "4  263536618  02/13/2023    109     ASSAULT 2,1,UNCLASSIFIED  106.0   \n",
       "\n",
       "         OFNS_DESC LAW_CAT_CD ARREST_BORO  ARREST_PRECINCT  JURISDICTION_CODE  \\\n",
       "0   FELONY ASSAULT          F           K               77                  0   \n",
       "1  DANGEROUS DRUGS          F           K               73                  0   \n",
       "2   FELONY ASSAULT          F           K               62                  0   \n",
       "3   FELONY ASSAULT          F           M               32                  0   \n",
       "4   FELONY ASSAULT          F           K               71                  0   \n",
       "\n",
       "  AGE_GROUP PERP_SEX PERP_RACE      New Georeferenced Column  \n",
       "0     45-64        F     BLACK  POINT (-73.945615 40.677426)  \n",
       "1     25-44        M     BLACK   POINT (-73.90965 40.655923)  \n",
       "2     25-44        M     WHITE   POINT (-74.00712 40.602468)  \n",
       "3     25-44        M     BLACK  POINT (-73.943457 40.821797)  \n",
       "4     25-44        M     BLACK  POINT (-73.938042 40.669175)  "
      ]
     },
     "execution_count": 8,
     "metadata": {},
     "output_type": "execute_result"
    }
   ],
   "source": [
    "# After Drop and rename column, here is view of new dataframe\n",
    "arrest.head()"
   ]
  },
  {
   "cell_type": "code",
   "execution_count": 9,
   "id": "b66a6670",
   "metadata": {},
   "outputs": [
    {
     "data": {
      "text/plain": [
       "(170095, 14)"
      ]
     },
     "execution_count": 9,
     "metadata": {},
     "output_type": "execute_result"
    }
   ],
   "source": [
    "arrest.shape"
   ]
  },
  {
   "cell_type": "markdown",
   "id": "868d45b8",
   "metadata": {},
   "source": [
    "# NYPD Shooting"
   ]
  },
  {
   "cell_type": "code",
   "execution_count": 10,
   "id": "ac88b5ca",
   "metadata": {},
   "outputs": [
    {
     "data": {
      "text/html": [
       "<div>\n",
       "<style scoped>\n",
       "    .dataframe tbody tr th:only-of-type {\n",
       "        vertical-align: middle;\n",
       "    }\n",
       "\n",
       "    .dataframe tbody tr th {\n",
       "        vertical-align: top;\n",
       "    }\n",
       "\n",
       "    .dataframe thead th {\n",
       "        text-align: right;\n",
       "    }\n",
       "</style>\n",
       "<table border=\"1\" class=\"dataframe\">\n",
       "  <thead>\n",
       "    <tr style=\"text-align: right;\">\n",
       "      <th></th>\n",
       "      <th>INCIDENT_KEY</th>\n",
       "      <th>OCCUR_DATE</th>\n",
       "      <th>OCCUR_TIME</th>\n",
       "      <th>BORO</th>\n",
       "      <th>LOC_OF_OCCUR_DESC</th>\n",
       "      <th>PRECINCT</th>\n",
       "      <th>JURISDICTION_CODE</th>\n",
       "      <th>LOC_CLASSFCTN_DESC</th>\n",
       "      <th>LOCATION_DESC</th>\n",
       "      <th>STATISTICAL_MURDER_FLAG</th>\n",
       "      <th>...</th>\n",
       "      <th>PERP_SEX</th>\n",
       "      <th>PERP_RACE</th>\n",
       "      <th>VIC_AGE_GROUP</th>\n",
       "      <th>VIC_SEX</th>\n",
       "      <th>VIC_RACE</th>\n",
       "      <th>X_COORD_CD</th>\n",
       "      <th>Y_COORD_CD</th>\n",
       "      <th>Latitude</th>\n",
       "      <th>Longitude</th>\n",
       "      <th>Lon_Lat</th>\n",
       "    </tr>\n",
       "  </thead>\n",
       "  <tbody>\n",
       "    <tr>\n",
       "      <th>0</th>\n",
       "      <td>228798151</td>\n",
       "      <td>05/27/2021</td>\n",
       "      <td>21:30:00</td>\n",
       "      <td>QUEENS</td>\n",
       "      <td>NaN</td>\n",
       "      <td>105</td>\n",
       "      <td>0.0</td>\n",
       "      <td>NaN</td>\n",
       "      <td>NaN</td>\n",
       "      <td>False</td>\n",
       "      <td>...</td>\n",
       "      <td>NaN</td>\n",
       "      <td>NaN</td>\n",
       "      <td>18-24</td>\n",
       "      <td>M</td>\n",
       "      <td>BLACK</td>\n",
       "      <td>1.058925e+06</td>\n",
       "      <td>180924.000000</td>\n",
       "      <td>40.662965</td>\n",
       "      <td>-73.730839</td>\n",
       "      <td>POINT (-73.73083868899994 40.662964620000025)</td>\n",
       "    </tr>\n",
       "    <tr>\n",
       "      <th>1</th>\n",
       "      <td>137471050</td>\n",
       "      <td>06/27/2014</td>\n",
       "      <td>17:40:00</td>\n",
       "      <td>BRONX</td>\n",
       "      <td>NaN</td>\n",
       "      <td>40</td>\n",
       "      <td>0.0</td>\n",
       "      <td>NaN</td>\n",
       "      <td>NaN</td>\n",
       "      <td>False</td>\n",
       "      <td>...</td>\n",
       "      <td>NaN</td>\n",
       "      <td>NaN</td>\n",
       "      <td>18-24</td>\n",
       "      <td>M</td>\n",
       "      <td>BLACK</td>\n",
       "      <td>1.005028e+06</td>\n",
       "      <td>234516.000000</td>\n",
       "      <td>40.810352</td>\n",
       "      <td>-73.924942</td>\n",
       "      <td>POINT (-73.92494232599995 40.81035186300006)</td>\n",
       "    </tr>\n",
       "    <tr>\n",
       "      <th>2</th>\n",
       "      <td>147998800</td>\n",
       "      <td>11/21/2015</td>\n",
       "      <td>03:56:00</td>\n",
       "      <td>QUEENS</td>\n",
       "      <td>NaN</td>\n",
       "      <td>108</td>\n",
       "      <td>0.0</td>\n",
       "      <td>NaN</td>\n",
       "      <td>NaN</td>\n",
       "      <td>True</td>\n",
       "      <td>...</td>\n",
       "      <td>NaN</td>\n",
       "      <td>NaN</td>\n",
       "      <td>25-44</td>\n",
       "      <td>M</td>\n",
       "      <td>WHITE</td>\n",
       "      <td>1.007668e+06</td>\n",
       "      <td>209836.531250</td>\n",
       "      <td>40.742607</td>\n",
       "      <td>-73.915492</td>\n",
       "      <td>POINT (-73.91549174199997 40.74260663300004)</td>\n",
       "    </tr>\n",
       "    <tr>\n",
       "      <th>3</th>\n",
       "      <td>146837977</td>\n",
       "      <td>10/09/2015</td>\n",
       "      <td>18:30:00</td>\n",
       "      <td>BRONX</td>\n",
       "      <td>NaN</td>\n",
       "      <td>44</td>\n",
       "      <td>0.0</td>\n",
       "      <td>NaN</td>\n",
       "      <td>NaN</td>\n",
       "      <td>False</td>\n",
       "      <td>...</td>\n",
       "      <td>NaN</td>\n",
       "      <td>NaN</td>\n",
       "      <td>&lt;18</td>\n",
       "      <td>M</td>\n",
       "      <td>WHITE HISPANIC</td>\n",
       "      <td>1.006537e+06</td>\n",
       "      <td>244511.140625</td>\n",
       "      <td>40.837782</td>\n",
       "      <td>-73.919457</td>\n",
       "      <td>POINT (-73.91945661499994 40.83778200300003)</td>\n",
       "    </tr>\n",
       "    <tr>\n",
       "      <th>4</th>\n",
       "      <td>58921844</td>\n",
       "      <td>02/19/2009</td>\n",
       "      <td>22:58:00</td>\n",
       "      <td>BRONX</td>\n",
       "      <td>NaN</td>\n",
       "      <td>47</td>\n",
       "      <td>0.0</td>\n",
       "      <td>NaN</td>\n",
       "      <td>NaN</td>\n",
       "      <td>True</td>\n",
       "      <td>...</td>\n",
       "      <td>M</td>\n",
       "      <td>BLACK</td>\n",
       "      <td>45-64</td>\n",
       "      <td>M</td>\n",
       "      <td>BLACK</td>\n",
       "      <td>1.024922e+06</td>\n",
       "      <td>262189.406250</td>\n",
       "      <td>40.886238</td>\n",
       "      <td>-73.852910</td>\n",
       "      <td>POINT (-73.85290950899997 40.88623791800006)</td>\n",
       "    </tr>\n",
       "  </tbody>\n",
       "</table>\n",
       "<p>5 rows × 21 columns</p>\n",
       "</div>"
      ],
      "text/plain": [
       "   INCIDENT_KEY  OCCUR_DATE OCCUR_TIME    BORO LOC_OF_OCCUR_DESC  PRECINCT  \\\n",
       "0     228798151  05/27/2021   21:30:00  QUEENS               NaN       105   \n",
       "1     137471050  06/27/2014   17:40:00   BRONX               NaN        40   \n",
       "2     147998800  11/21/2015   03:56:00  QUEENS               NaN       108   \n",
       "3     146837977  10/09/2015   18:30:00   BRONX               NaN        44   \n",
       "4      58921844  02/19/2009   22:58:00   BRONX               NaN        47   \n",
       "\n",
       "   JURISDICTION_CODE LOC_CLASSFCTN_DESC LOCATION_DESC  \\\n",
       "0                0.0                NaN           NaN   \n",
       "1                0.0                NaN           NaN   \n",
       "2                0.0                NaN           NaN   \n",
       "3                0.0                NaN           NaN   \n",
       "4                0.0                NaN           NaN   \n",
       "\n",
       "   STATISTICAL_MURDER_FLAG  ... PERP_SEX PERP_RACE VIC_AGE_GROUP VIC_SEX  \\\n",
       "0                    False  ...      NaN       NaN         18-24       M   \n",
       "1                    False  ...      NaN       NaN         18-24       M   \n",
       "2                     True  ...      NaN       NaN         25-44       M   \n",
       "3                    False  ...      NaN       NaN           <18       M   \n",
       "4                     True  ...        M     BLACK         45-64       M   \n",
       "\n",
       "         VIC_RACE    X_COORD_CD     Y_COORD_CD   Latitude  Longitude  \\\n",
       "0           BLACK  1.058925e+06  180924.000000  40.662965 -73.730839   \n",
       "1           BLACK  1.005028e+06  234516.000000  40.810352 -73.924942   \n",
       "2           WHITE  1.007668e+06  209836.531250  40.742607 -73.915492   \n",
       "3  WHITE HISPANIC  1.006537e+06  244511.140625  40.837782 -73.919457   \n",
       "4           BLACK  1.024922e+06  262189.406250  40.886238 -73.852910   \n",
       "\n",
       "                                         Lon_Lat  \n",
       "0  POINT (-73.73083868899994 40.662964620000025)  \n",
       "1   POINT (-73.92494232599995 40.81035186300006)  \n",
       "2   POINT (-73.91549174199997 40.74260663300004)  \n",
       "3   POINT (-73.91945661499994 40.83778200300003)  \n",
       "4   POINT (-73.85290950899997 40.88623791800006)  \n",
       "\n",
       "[5 rows x 21 columns]"
      ]
     },
     "execution_count": 10,
     "metadata": {},
     "output_type": "execute_result"
    }
   ],
   "source": [
    "# Read in and view Dataframe\n",
    "\n",
    "shoot =pd.read_csv(\"NYPD_Shooting_Incident_Data__Historic_.csv\")\n",
    "\n",
    "shoot.head()"
   ]
  },
  {
   "cell_type": "code",
   "execution_count": 11,
   "id": "9d1e0907",
   "metadata": {},
   "outputs": [
    {
     "data": {
      "text/plain": [
       "Index(['INCIDENT_KEY', 'OCCUR_DATE', 'OCCUR_TIME', 'BORO', 'LOC_OF_OCCUR_DESC',\n",
       "       'PRECINCT', 'JURISDICTION_CODE', 'LOC_CLASSFCTN_DESC', 'LOCATION_DESC',\n",
       "       'STATISTICAL_MURDER_FLAG', 'PERP_AGE_GROUP', 'PERP_SEX', 'PERP_RACE',\n",
       "       'VIC_AGE_GROUP', 'VIC_SEX', 'VIC_RACE', 'X_COORD_CD', 'Y_COORD_CD',\n",
       "       'Latitude', 'Longitude', 'Lon_Lat'],\n",
       "      dtype='object')"
      ]
     },
     "execution_count": 11,
     "metadata": {},
     "output_type": "execute_result"
    }
   ],
   "source": [
    "shoot.columns"
   ]
  },
  {
   "cell_type": "code",
   "execution_count": 12,
   "id": "cc95b51c",
   "metadata": {},
   "outputs": [
    {
     "name": "stdout",
     "output_type": "stream",
     "text": [
      "Index(['ID', 'OCCUR_DATE', 'OCCUR_TIME', 'BORO', 'LOC_OF_OCCUR_DESC',\n",
      "       'PRECINCT', 'LOC_CLASSFCTN_DESC', 'LOCATION_DESC',\n",
      "       'STATISTICAL_MURDER_FLAG', 'PERP_AGE_GROUP', 'PERP_SEX', 'PERP_RACE',\n",
      "       'VIC_AGE_GROUP', 'VIC_SEX', 'VIC_RACE'],\n",
      "      dtype='object')\n"
     ]
    }
   ],
   "source": [
    "# Drop columns \n",
    "drop_cols = ['X_COORD_CD', 'Y_COORD_CD', 'Latitude', 'Longitude', 'Lon_Lat','JURISDICTION_CODE']\n",
    "shoot.drop(columns=drop_cols, inplace=True)\n",
    "\n",
    "# Rename column\n",
    "shoot.rename(columns={'INCIDENT_KEY':'ID'}, inplace=True)\n",
    "\n",
    "print(shoot.columns)"
   ]
  },
  {
   "cell_type": "code",
   "execution_count": 13,
   "id": "ecf06036",
   "metadata": {},
   "outputs": [
    {
     "data": {
      "text/plain": [
       "(27312, 15)"
      ]
     },
     "execution_count": 13,
     "metadata": {},
     "output_type": "execute_result"
    }
   ],
   "source": [
    "shoot.shape"
   ]
  },
  {
   "cell_type": "code",
   "execution_count": 14,
   "id": "639d5844",
   "metadata": {},
   "outputs": [
    {
     "data": {
      "text/html": [
       "<div>\n",
       "<style scoped>\n",
       "    .dataframe tbody tr th:only-of-type {\n",
       "        vertical-align: middle;\n",
       "    }\n",
       "\n",
       "    .dataframe tbody tr th {\n",
       "        vertical-align: top;\n",
       "    }\n",
       "\n",
       "    .dataframe thead th {\n",
       "        text-align: right;\n",
       "    }\n",
       "</style>\n",
       "<table border=\"1\" class=\"dataframe\">\n",
       "  <thead>\n",
       "    <tr style=\"text-align: right;\">\n",
       "      <th></th>\n",
       "      <th>ID</th>\n",
       "      <th>OCCUR_DATE</th>\n",
       "      <th>OCCUR_TIME</th>\n",
       "      <th>BORO</th>\n",
       "      <th>LOC_OF_OCCUR_DESC</th>\n",
       "      <th>PRECINCT</th>\n",
       "      <th>LOC_CLASSFCTN_DESC</th>\n",
       "      <th>LOCATION_DESC</th>\n",
       "      <th>STATISTICAL_MURDER_FLAG</th>\n",
       "      <th>PERP_AGE_GROUP</th>\n",
       "      <th>PERP_SEX</th>\n",
       "      <th>PERP_RACE</th>\n",
       "      <th>VIC_AGE_GROUP</th>\n",
       "      <th>VIC_SEX</th>\n",
       "      <th>VIC_RACE</th>\n",
       "    </tr>\n",
       "  </thead>\n",
       "  <tbody>\n",
       "    <tr>\n",
       "      <th>0</th>\n",
       "      <td>228798151</td>\n",
       "      <td>05/27/2021</td>\n",
       "      <td>21:30:00</td>\n",
       "      <td>QUEENS</td>\n",
       "      <td>NaN</td>\n",
       "      <td>105</td>\n",
       "      <td>NaN</td>\n",
       "      <td>NaN</td>\n",
       "      <td>False</td>\n",
       "      <td>NaN</td>\n",
       "      <td>NaN</td>\n",
       "      <td>NaN</td>\n",
       "      <td>18-24</td>\n",
       "      <td>M</td>\n",
       "      <td>BLACK</td>\n",
       "    </tr>\n",
       "    <tr>\n",
       "      <th>1</th>\n",
       "      <td>137471050</td>\n",
       "      <td>06/27/2014</td>\n",
       "      <td>17:40:00</td>\n",
       "      <td>BRONX</td>\n",
       "      <td>NaN</td>\n",
       "      <td>40</td>\n",
       "      <td>NaN</td>\n",
       "      <td>NaN</td>\n",
       "      <td>False</td>\n",
       "      <td>NaN</td>\n",
       "      <td>NaN</td>\n",
       "      <td>NaN</td>\n",
       "      <td>18-24</td>\n",
       "      <td>M</td>\n",
       "      <td>BLACK</td>\n",
       "    </tr>\n",
       "    <tr>\n",
       "      <th>2</th>\n",
       "      <td>147998800</td>\n",
       "      <td>11/21/2015</td>\n",
       "      <td>03:56:00</td>\n",
       "      <td>QUEENS</td>\n",
       "      <td>NaN</td>\n",
       "      <td>108</td>\n",
       "      <td>NaN</td>\n",
       "      <td>NaN</td>\n",
       "      <td>True</td>\n",
       "      <td>NaN</td>\n",
       "      <td>NaN</td>\n",
       "      <td>NaN</td>\n",
       "      <td>25-44</td>\n",
       "      <td>M</td>\n",
       "      <td>WHITE</td>\n",
       "    </tr>\n",
       "    <tr>\n",
       "      <th>3</th>\n",
       "      <td>146837977</td>\n",
       "      <td>10/09/2015</td>\n",
       "      <td>18:30:00</td>\n",
       "      <td>BRONX</td>\n",
       "      <td>NaN</td>\n",
       "      <td>44</td>\n",
       "      <td>NaN</td>\n",
       "      <td>NaN</td>\n",
       "      <td>False</td>\n",
       "      <td>NaN</td>\n",
       "      <td>NaN</td>\n",
       "      <td>NaN</td>\n",
       "      <td>&lt;18</td>\n",
       "      <td>M</td>\n",
       "      <td>WHITE HISPANIC</td>\n",
       "    </tr>\n",
       "    <tr>\n",
       "      <th>4</th>\n",
       "      <td>58921844</td>\n",
       "      <td>02/19/2009</td>\n",
       "      <td>22:58:00</td>\n",
       "      <td>BRONX</td>\n",
       "      <td>NaN</td>\n",
       "      <td>47</td>\n",
       "      <td>NaN</td>\n",
       "      <td>NaN</td>\n",
       "      <td>True</td>\n",
       "      <td>25-44</td>\n",
       "      <td>M</td>\n",
       "      <td>BLACK</td>\n",
       "      <td>45-64</td>\n",
       "      <td>M</td>\n",
       "      <td>BLACK</td>\n",
       "    </tr>\n",
       "  </tbody>\n",
       "</table>\n",
       "</div>"
      ],
      "text/plain": [
       "          ID  OCCUR_DATE OCCUR_TIME    BORO LOC_OF_OCCUR_DESC  PRECINCT  \\\n",
       "0  228798151  05/27/2021   21:30:00  QUEENS               NaN       105   \n",
       "1  137471050  06/27/2014   17:40:00   BRONX               NaN        40   \n",
       "2  147998800  11/21/2015   03:56:00  QUEENS               NaN       108   \n",
       "3  146837977  10/09/2015   18:30:00   BRONX               NaN        44   \n",
       "4   58921844  02/19/2009   22:58:00   BRONX               NaN        47   \n",
       "\n",
       "  LOC_CLASSFCTN_DESC LOCATION_DESC  STATISTICAL_MURDER_FLAG PERP_AGE_GROUP  \\\n",
       "0                NaN           NaN                    False            NaN   \n",
       "1                NaN           NaN                    False            NaN   \n",
       "2                NaN           NaN                     True            NaN   \n",
       "3                NaN           NaN                    False            NaN   \n",
       "4                NaN           NaN                     True          25-44   \n",
       "\n",
       "  PERP_SEX PERP_RACE VIC_AGE_GROUP VIC_SEX        VIC_RACE  \n",
       "0      NaN       NaN         18-24       M           BLACK  \n",
       "1      NaN       NaN         18-24       M           BLACK  \n",
       "2      NaN       NaN         25-44       M           WHITE  \n",
       "3      NaN       NaN           <18       M  WHITE HISPANIC  \n",
       "4        M     BLACK         45-64       M           BLACK  "
      ]
     },
     "execution_count": 14,
     "metadata": {},
     "output_type": "execute_result"
    }
   ],
   "source": [
    "#view of dataframe after drop and rename col\n",
    "\n",
    "shoot.head()"
   ]
  },
  {
   "cell_type": "code",
   "execution_count": null,
   "id": "bb3e994a",
   "metadata": {},
   "outputs": [],
   "source": []
  },
  {
   "cell_type": "markdown",
   "id": "11c7385f",
   "metadata": {},
   "source": [
    "# NYPD Hate Crime"
   ]
  },
  {
   "cell_type": "code",
   "execution_count": 15,
   "id": "9de6493a",
   "metadata": {},
   "outputs": [
    {
     "data": {
      "text/html": [
       "<div>\n",
       "<style scoped>\n",
       "    .dataframe tbody tr th:only-of-type {\n",
       "        vertical-align: middle;\n",
       "    }\n",
       "\n",
       "    .dataframe tbody tr th {\n",
       "        vertical-align: top;\n",
       "    }\n",
       "\n",
       "    .dataframe thead th {\n",
       "        text-align: right;\n",
       "    }\n",
       "</style>\n",
       "<table border=\"1\" class=\"dataframe\">\n",
       "  <thead>\n",
       "    <tr style=\"text-align: right;\">\n",
       "      <th></th>\n",
       "      <th>Full Complaint ID</th>\n",
       "      <th>Complaint Year Number</th>\n",
       "      <th>Month Number</th>\n",
       "      <th>Record Create Date</th>\n",
       "      <th>Complaint Precinct Code</th>\n",
       "      <th>Patrol Borough Name</th>\n",
       "      <th>County</th>\n",
       "      <th>Law Code Category Description</th>\n",
       "      <th>Offense Description</th>\n",
       "      <th>PD Code Description</th>\n",
       "      <th>Bias Motive Description</th>\n",
       "      <th>Offense Category</th>\n",
       "      <th>Arrest Date</th>\n",
       "      <th>Arrest Id</th>\n",
       "    </tr>\n",
       "  </thead>\n",
       "  <tbody>\n",
       "    <tr>\n",
       "      <th>0</th>\n",
       "      <td>201904612204817</td>\n",
       "      <td>2019</td>\n",
       "      <td>2</td>\n",
       "      <td>02/08/2019</td>\n",
       "      <td>46</td>\n",
       "      <td>PATROL BORO BRONX</td>\n",
       "      <td>BRONX</td>\n",
       "      <td>FELONY</td>\n",
       "      <td>FELONY ASSAULT</td>\n",
       "      <td>ASSAULT 2,1,UNCLASSIFIED</td>\n",
       "      <td>ANTI-MALE HOMOSEXUAL (GAY)</td>\n",
       "      <td>Sexual Orientation</td>\n",
       "      <td>02/08/2019</td>\n",
       "      <td>B31678218</td>\n",
       "    </tr>\n",
       "    <tr>\n",
       "      <th>1</th>\n",
       "      <td>201904812229517</td>\n",
       "      <td>2019</td>\n",
       "      <td>3</td>\n",
       "      <td>03/09/2019</td>\n",
       "      <td>48</td>\n",
       "      <td>PATROL BORO BRONX</td>\n",
       "      <td>BRONX</td>\n",
       "      <td>MISDEMEANOR</td>\n",
       "      <td>ASSAULT 3 &amp; RELATED OFFENSES</td>\n",
       "      <td>ASSAULT 3</td>\n",
       "      <td>ANTI-WHITE</td>\n",
       "      <td>Race/Color</td>\n",
       "      <td>03/09/2019</td>\n",
       "      <td>B31682790</td>\n",
       "    </tr>\n",
       "    <tr>\n",
       "      <th>2</th>\n",
       "      <td>201904812231317</td>\n",
       "      <td>2019</td>\n",
       "      <td>3</td>\n",
       "      <td>03/10/2019</td>\n",
       "      <td>48</td>\n",
       "      <td>PATROL BORO BRONX</td>\n",
       "      <td>BRONX</td>\n",
       "      <td>MISDEMEANOR</td>\n",
       "      <td>ASSAULT 3 &amp; RELATED OFFENSES</td>\n",
       "      <td>ASSAULT 3</td>\n",
       "      <td>ANTI-WHITE</td>\n",
       "      <td>Race/Color</td>\n",
       "      <td>03/09/2019</td>\n",
       "      <td>B31682806</td>\n",
       "    </tr>\n",
       "    <tr>\n",
       "      <th>3</th>\n",
       "      <td>201904812226617</td>\n",
       "      <td>2019</td>\n",
       "      <td>3</td>\n",
       "      <td>03/08/2019</td>\n",
       "      <td>48</td>\n",
       "      <td>PATROL BORO BRONX</td>\n",
       "      <td>BRONX</td>\n",
       "      <td>MISDEMEANOR</td>\n",
       "      <td>ASSAULT 3 &amp; RELATED OFFENSES</td>\n",
       "      <td>ASSAULT 3</td>\n",
       "      <td>ANTI-WHITE</td>\n",
       "      <td>Race/Color</td>\n",
       "      <td>03/09/2019</td>\n",
       "      <td>B31682806</td>\n",
       "    </tr>\n",
       "    <tr>\n",
       "      <th>4</th>\n",
       "      <td>201904212405517</td>\n",
       "      <td>2019</td>\n",
       "      <td>5</td>\n",
       "      <td>05/11/2019</td>\n",
       "      <td>42</td>\n",
       "      <td>PATROL BORO BRONX</td>\n",
       "      <td>BRONX</td>\n",
       "      <td>FELONY</td>\n",
       "      <td>ROBBERY</td>\n",
       "      <td>ROBBERY,POCKETBOOK/CARRIED BAG</td>\n",
       "      <td>ANTI-MUSLIM</td>\n",
       "      <td>Religion/Religious Practice</td>\n",
       "      <td>05/10/2019</td>\n",
       "      <td>B31692174</td>\n",
       "    </tr>\n",
       "  </tbody>\n",
       "</table>\n",
       "</div>"
      ],
      "text/plain": [
       "   Full Complaint ID  Complaint Year Number  Month Number Record Create Date  \\\n",
       "0    201904612204817                   2019             2         02/08/2019   \n",
       "1    201904812229517                   2019             3         03/09/2019   \n",
       "2    201904812231317                   2019             3         03/10/2019   \n",
       "3    201904812226617                   2019             3         03/08/2019   \n",
       "4    201904212405517                   2019             5         05/11/2019   \n",
       "\n",
       "   Complaint Precinct Code Patrol Borough Name County  \\\n",
       "0                       46   PATROL BORO BRONX  BRONX   \n",
       "1                       48   PATROL BORO BRONX  BRONX   \n",
       "2                       48   PATROL BORO BRONX  BRONX   \n",
       "3                       48   PATROL BORO BRONX  BRONX   \n",
       "4                       42   PATROL BORO BRONX  BRONX   \n",
       "\n",
       "  Law Code Category Description           Offense Description  \\\n",
       "0                        FELONY                FELONY ASSAULT   \n",
       "1                   MISDEMEANOR  ASSAULT 3 & RELATED OFFENSES   \n",
       "2                   MISDEMEANOR  ASSAULT 3 & RELATED OFFENSES   \n",
       "3                   MISDEMEANOR  ASSAULT 3 & RELATED OFFENSES   \n",
       "4                        FELONY                       ROBBERY   \n",
       "\n",
       "              PD Code Description     Bias Motive Description  \\\n",
       "0        ASSAULT 2,1,UNCLASSIFIED  ANTI-MALE HOMOSEXUAL (GAY)   \n",
       "1                       ASSAULT 3                  ANTI-WHITE   \n",
       "2                       ASSAULT 3                  ANTI-WHITE   \n",
       "3                       ASSAULT 3                  ANTI-WHITE   \n",
       "4  ROBBERY,POCKETBOOK/CARRIED BAG                 ANTI-MUSLIM   \n",
       "\n",
       "              Offense Category Arrest Date  Arrest Id  \n",
       "0           Sexual Orientation  02/08/2019  B31678218  \n",
       "1                   Race/Color  03/09/2019  B31682790  \n",
       "2                   Race/Color  03/09/2019  B31682806  \n",
       "3                   Race/Color  03/09/2019  B31682806  \n",
       "4  Religion/Religious Practice  05/10/2019  B31692174  "
      ]
     },
     "execution_count": 15,
     "metadata": {},
     "output_type": "execute_result"
    }
   ],
   "source": [
    "# Read in and view dataframe\n",
    "\n",
    "hate = pd.read_csv(\"NYPD_Hate_Crimes.csv\")\n",
    "hate.head()"
   ]
  },
  {
   "cell_type": "code",
   "execution_count": 16,
   "id": "25e62327",
   "metadata": {},
   "outputs": [
    {
     "data": {
      "text/plain": [
       "Index(['Full Complaint ID', 'Complaint Year Number', 'Month Number',\n",
       "       'Record Create Date', 'Complaint Precinct Code', 'Patrol Borough Name',\n",
       "       'County', 'Law Code Category Description', 'Offense Description',\n",
       "       'PD Code Description', 'Bias Motive Description', 'Offense Category',\n",
       "       'Arrest Date', 'Arrest Id'],\n",
       "      dtype='object')"
      ]
     },
     "execution_count": 16,
     "metadata": {},
     "output_type": "execute_result"
    }
   ],
   "source": [
    "# columms name\n",
    "\n",
    "hate.columns\n"
   ]
  },
  {
   "cell_type": "code",
   "execution_count": 17,
   "id": "1c888f7c",
   "metadata": {},
   "outputs": [
    {
     "name": "stdout",
     "output_type": "stream",
     "text": [
      "Index(['ID', 'Complaint Year Number', 'Month Number', 'Record Create Date',\n",
      "       'Complaint Precinct Code', 'Patrol Borough Name', 'County',\n",
      "       'Law Code Category Description', 'Offense Description',\n",
      "       'PD Code Description', 'Bias Motive Description', 'Offense Category',\n",
      "       'Arrest Date'],\n",
      "      dtype='object')\n"
     ]
    }
   ],
   "source": [
    "# Drop columns \n",
    "drop_cols = ['Arrest Id']\n",
    "hate.drop(columns=drop_cols, inplace=True)\n",
    "\n",
    "# Rename column\n",
    "hate.rename(columns={'Full Complaint ID':'ID'}, inplace=True)\n",
    "\n",
    "print(hate.columns)"
   ]
  },
  {
   "cell_type": "code",
   "execution_count": 18,
   "id": "7ba35146",
   "metadata": {},
   "outputs": [
    {
     "data": {
      "text/plain": [
       "(2247, 13)"
      ]
     },
     "execution_count": 18,
     "metadata": {},
     "output_type": "execute_result"
    }
   ],
   "source": [
    "hate.shape"
   ]
  },
  {
   "cell_type": "code",
   "execution_count": 19,
   "id": "0e3acce1",
   "metadata": {},
   "outputs": [
    {
     "data": {
      "text/html": [
       "<div>\n",
       "<style scoped>\n",
       "    .dataframe tbody tr th:only-of-type {\n",
       "        vertical-align: middle;\n",
       "    }\n",
       "\n",
       "    .dataframe tbody tr th {\n",
       "        vertical-align: top;\n",
       "    }\n",
       "\n",
       "    .dataframe thead th {\n",
       "        text-align: right;\n",
       "    }\n",
       "</style>\n",
       "<table border=\"1\" class=\"dataframe\">\n",
       "  <thead>\n",
       "    <tr style=\"text-align: right;\">\n",
       "      <th></th>\n",
       "      <th>ID</th>\n",
       "      <th>Complaint Year Number</th>\n",
       "      <th>Month Number</th>\n",
       "      <th>Record Create Date</th>\n",
       "      <th>Complaint Precinct Code</th>\n",
       "      <th>Patrol Borough Name</th>\n",
       "      <th>County</th>\n",
       "      <th>Law Code Category Description</th>\n",
       "      <th>Offense Description</th>\n",
       "      <th>PD Code Description</th>\n",
       "      <th>Bias Motive Description</th>\n",
       "      <th>Offense Category</th>\n",
       "      <th>Arrest Date</th>\n",
       "    </tr>\n",
       "  </thead>\n",
       "  <tbody>\n",
       "    <tr>\n",
       "      <th>0</th>\n",
       "      <td>201904612204817</td>\n",
       "      <td>2019</td>\n",
       "      <td>2</td>\n",
       "      <td>02/08/2019</td>\n",
       "      <td>46</td>\n",
       "      <td>PATROL BORO BRONX</td>\n",
       "      <td>BRONX</td>\n",
       "      <td>FELONY</td>\n",
       "      <td>FELONY ASSAULT</td>\n",
       "      <td>ASSAULT 2,1,UNCLASSIFIED</td>\n",
       "      <td>ANTI-MALE HOMOSEXUAL (GAY)</td>\n",
       "      <td>Sexual Orientation</td>\n",
       "      <td>02/08/2019</td>\n",
       "    </tr>\n",
       "    <tr>\n",
       "      <th>1</th>\n",
       "      <td>201904812229517</td>\n",
       "      <td>2019</td>\n",
       "      <td>3</td>\n",
       "      <td>03/09/2019</td>\n",
       "      <td>48</td>\n",
       "      <td>PATROL BORO BRONX</td>\n",
       "      <td>BRONX</td>\n",
       "      <td>MISDEMEANOR</td>\n",
       "      <td>ASSAULT 3 &amp; RELATED OFFENSES</td>\n",
       "      <td>ASSAULT 3</td>\n",
       "      <td>ANTI-WHITE</td>\n",
       "      <td>Race/Color</td>\n",
       "      <td>03/09/2019</td>\n",
       "    </tr>\n",
       "    <tr>\n",
       "      <th>2</th>\n",
       "      <td>201904812231317</td>\n",
       "      <td>2019</td>\n",
       "      <td>3</td>\n",
       "      <td>03/10/2019</td>\n",
       "      <td>48</td>\n",
       "      <td>PATROL BORO BRONX</td>\n",
       "      <td>BRONX</td>\n",
       "      <td>MISDEMEANOR</td>\n",
       "      <td>ASSAULT 3 &amp; RELATED OFFENSES</td>\n",
       "      <td>ASSAULT 3</td>\n",
       "      <td>ANTI-WHITE</td>\n",
       "      <td>Race/Color</td>\n",
       "      <td>03/09/2019</td>\n",
       "    </tr>\n",
       "    <tr>\n",
       "      <th>3</th>\n",
       "      <td>201904812226617</td>\n",
       "      <td>2019</td>\n",
       "      <td>3</td>\n",
       "      <td>03/08/2019</td>\n",
       "      <td>48</td>\n",
       "      <td>PATROL BORO BRONX</td>\n",
       "      <td>BRONX</td>\n",
       "      <td>MISDEMEANOR</td>\n",
       "      <td>ASSAULT 3 &amp; RELATED OFFENSES</td>\n",
       "      <td>ASSAULT 3</td>\n",
       "      <td>ANTI-WHITE</td>\n",
       "      <td>Race/Color</td>\n",
       "      <td>03/09/2019</td>\n",
       "    </tr>\n",
       "    <tr>\n",
       "      <th>4</th>\n",
       "      <td>201904212405517</td>\n",
       "      <td>2019</td>\n",
       "      <td>5</td>\n",
       "      <td>05/11/2019</td>\n",
       "      <td>42</td>\n",
       "      <td>PATROL BORO BRONX</td>\n",
       "      <td>BRONX</td>\n",
       "      <td>FELONY</td>\n",
       "      <td>ROBBERY</td>\n",
       "      <td>ROBBERY,POCKETBOOK/CARRIED BAG</td>\n",
       "      <td>ANTI-MUSLIM</td>\n",
       "      <td>Religion/Religious Practice</td>\n",
       "      <td>05/10/2019</td>\n",
       "    </tr>\n",
       "  </tbody>\n",
       "</table>\n",
       "</div>"
      ],
      "text/plain": [
       "                ID  Complaint Year Number  Month Number Record Create Date  \\\n",
       "0  201904612204817                   2019             2         02/08/2019   \n",
       "1  201904812229517                   2019             3         03/09/2019   \n",
       "2  201904812231317                   2019             3         03/10/2019   \n",
       "3  201904812226617                   2019             3         03/08/2019   \n",
       "4  201904212405517                   2019             5         05/11/2019   \n",
       "\n",
       "   Complaint Precinct Code Patrol Borough Name County  \\\n",
       "0                       46   PATROL BORO BRONX  BRONX   \n",
       "1                       48   PATROL BORO BRONX  BRONX   \n",
       "2                       48   PATROL BORO BRONX  BRONX   \n",
       "3                       48   PATROL BORO BRONX  BRONX   \n",
       "4                       42   PATROL BORO BRONX  BRONX   \n",
       "\n",
       "  Law Code Category Description           Offense Description  \\\n",
       "0                        FELONY                FELONY ASSAULT   \n",
       "1                   MISDEMEANOR  ASSAULT 3 & RELATED OFFENSES   \n",
       "2                   MISDEMEANOR  ASSAULT 3 & RELATED OFFENSES   \n",
       "3                   MISDEMEANOR  ASSAULT 3 & RELATED OFFENSES   \n",
       "4                        FELONY                       ROBBERY   \n",
       "\n",
       "              PD Code Description     Bias Motive Description  \\\n",
       "0        ASSAULT 2,1,UNCLASSIFIED  ANTI-MALE HOMOSEXUAL (GAY)   \n",
       "1                       ASSAULT 3                  ANTI-WHITE   \n",
       "2                       ASSAULT 3                  ANTI-WHITE   \n",
       "3                       ASSAULT 3                  ANTI-WHITE   \n",
       "4  ROBBERY,POCKETBOOK/CARRIED BAG                 ANTI-MUSLIM   \n",
       "\n",
       "              Offense Category Arrest Date  \n",
       "0           Sexual Orientation  02/08/2019  \n",
       "1                   Race/Color  03/09/2019  \n",
       "2                   Race/Color  03/09/2019  \n",
       "3                   Race/Color  03/09/2019  \n",
       "4  Religion/Religious Practice  05/10/2019  "
      ]
     },
     "execution_count": 19,
     "metadata": {},
     "output_type": "execute_result"
    }
   ],
   "source": [
    "hate.head()"
   ]
  },
  {
   "cell_type": "code",
   "execution_count": 20,
   "id": "e2eafd0b",
   "metadata": {},
   "outputs": [],
   "source": [
    "# set ID as index for each dataframe\n",
    "\n",
    "arrest = arrest.set_index('ID')\n",
    "shoot = shoot.set_index('ID') \n",
    "hate = hate.set_index('ID')"
   ]
  },
  {
   "cell_type": "code",
   "execution_count": 21,
   "id": "bb6c3b07",
   "metadata": {},
   "outputs": [],
   "source": [
    "# Join arrest and shoot on id index with suffixes to handle duplicate columns\n",
    "\n",
    "df = arrest.join(shoot, lsuffix='_arrest', rsuffix='_shoot')"
   ]
  },
  {
   "cell_type": "code",
   "execution_count": 22,
   "id": "7284a9a8",
   "metadata": {},
   "outputs": [],
   "source": [
    "# Join result with hatecrime dataframe\n",
    "\n",
    "df = df.join(hate)"
   ]
  },
  {
   "cell_type": "code",
   "execution_count": 23,
   "id": "76764334",
   "metadata": {},
   "outputs": [
    {
     "data": {
      "text/html": [
       "<div>\n",
       "<style scoped>\n",
       "    .dataframe tbody tr th:only-of-type {\n",
       "        vertical-align: middle;\n",
       "    }\n",
       "\n",
       "    .dataframe tbody tr th {\n",
       "        vertical-align: top;\n",
       "    }\n",
       "\n",
       "    .dataframe thead th {\n",
       "        text-align: right;\n",
       "    }\n",
       "</style>\n",
       "<table border=\"1\" class=\"dataframe\">\n",
       "  <thead>\n",
       "    <tr style=\"text-align: right;\">\n",
       "      <th></th>\n",
       "      <th>ARREST_DATE</th>\n",
       "      <th>PD_CD</th>\n",
       "      <th>PD_DESC</th>\n",
       "      <th>KY_CD</th>\n",
       "      <th>OFNS_DESC</th>\n",
       "      <th>LAW_CAT_CD</th>\n",
       "      <th>ARREST_BORO</th>\n",
       "      <th>ARREST_PRECINCT</th>\n",
       "      <th>JURISDICTION_CODE</th>\n",
       "      <th>AGE_GROUP</th>\n",
       "      <th>...</th>\n",
       "      <th>Record Create Date</th>\n",
       "      <th>Complaint Precinct Code</th>\n",
       "      <th>Patrol Borough Name</th>\n",
       "      <th>County</th>\n",
       "      <th>Law Code Category Description</th>\n",
       "      <th>Offense Description</th>\n",
       "      <th>PD Code Description</th>\n",
       "      <th>Bias Motive Description</th>\n",
       "      <th>Offense Category</th>\n",
       "      <th>Arrest Date</th>\n",
       "    </tr>\n",
       "    <tr>\n",
       "      <th>ID</th>\n",
       "      <th></th>\n",
       "      <th></th>\n",
       "      <th></th>\n",
       "      <th></th>\n",
       "      <th></th>\n",
       "      <th></th>\n",
       "      <th></th>\n",
       "      <th></th>\n",
       "      <th></th>\n",
       "      <th></th>\n",
       "      <th></th>\n",
       "      <th></th>\n",
       "      <th></th>\n",
       "      <th></th>\n",
       "      <th></th>\n",
       "      <th></th>\n",
       "      <th></th>\n",
       "      <th></th>\n",
       "      <th></th>\n",
       "      <th></th>\n",
       "      <th></th>\n",
       "    </tr>\n",
       "  </thead>\n",
       "  <tbody>\n",
       "    <tr>\n",
       "      <th>261180920</th>\n",
       "      <td>01/01/2023</td>\n",
       "      <td>244</td>\n",
       "      <td>BURGLARY,UNCLASSIFIED,UNKNOWN</td>\n",
       "      <td>107.0</td>\n",
       "      <td>BURGLARY</td>\n",
       "      <td>F</td>\n",
       "      <td>K</td>\n",
       "      <td>75</td>\n",
       "      <td>0</td>\n",
       "      <td>18-24</td>\n",
       "      <td>...</td>\n",
       "      <td>NaN</td>\n",
       "      <td>NaN</td>\n",
       "      <td>NaN</td>\n",
       "      <td>NaN</td>\n",
       "      <td>NaN</td>\n",
       "      <td>NaN</td>\n",
       "      <td>NaN</td>\n",
       "      <td>NaN</td>\n",
       "      <td>NaN</td>\n",
       "      <td>NaN</td>\n",
       "    </tr>\n",
       "    <tr>\n",
       "      <th>261180925</th>\n",
       "      <td>01/01/2023</td>\n",
       "      <td>494</td>\n",
       "      <td>STOLEN PROPERTY 2,1,POSSESSION</td>\n",
       "      <td>111.0</td>\n",
       "      <td>POSSESSION OF STOLEN PROPERTY</td>\n",
       "      <td>F</td>\n",
       "      <td>Q</td>\n",
       "      <td>107</td>\n",
       "      <td>0</td>\n",
       "      <td>25-44</td>\n",
       "      <td>...</td>\n",
       "      <td>NaN</td>\n",
       "      <td>NaN</td>\n",
       "      <td>NaN</td>\n",
       "      <td>NaN</td>\n",
       "      <td>NaN</td>\n",
       "      <td>NaN</td>\n",
       "      <td>NaN</td>\n",
       "      <td>NaN</td>\n",
       "      <td>NaN</td>\n",
       "      <td>NaN</td>\n",
       "    </tr>\n",
       "    <tr>\n",
       "      <th>261181238</th>\n",
       "      <td>01/01/2023</td>\n",
       "      <td>779</td>\n",
       "      <td>PUBLIC ADMINISTRATION,UNCLASSI</td>\n",
       "      <td>126.0</td>\n",
       "      <td>MISCELLANEOUS PENAL LAW</td>\n",
       "      <td>F</td>\n",
       "      <td>K</td>\n",
       "      <td>79</td>\n",
       "      <td>0</td>\n",
       "      <td>25-44</td>\n",
       "      <td>...</td>\n",
       "      <td>NaN</td>\n",
       "      <td>NaN</td>\n",
       "      <td>NaN</td>\n",
       "      <td>NaN</td>\n",
       "      <td>NaN</td>\n",
       "      <td>NaN</td>\n",
       "      <td>NaN</td>\n",
       "      <td>NaN</td>\n",
       "      <td>NaN</td>\n",
       "      <td>NaN</td>\n",
       "    </tr>\n",
       "    <tr>\n",
       "      <th>261181240</th>\n",
       "      <td>01/01/2023</td>\n",
       "      <td>779</td>\n",
       "      <td>PUBLIC ADMINISTRATION,UNCLASSI</td>\n",
       "      <td>126.0</td>\n",
       "      <td>MISCELLANEOUS PENAL LAW</td>\n",
       "      <td>F</td>\n",
       "      <td>K</td>\n",
       "      <td>79</td>\n",
       "      <td>0</td>\n",
       "      <td>25-44</td>\n",
       "      <td>...</td>\n",
       "      <td>NaN</td>\n",
       "      <td>NaN</td>\n",
       "      <td>NaN</td>\n",
       "      <td>NaN</td>\n",
       "      <td>NaN</td>\n",
       "      <td>NaN</td>\n",
       "      <td>NaN</td>\n",
       "      <td>NaN</td>\n",
       "      <td>NaN</td>\n",
       "      <td>NaN</td>\n",
       "    </tr>\n",
       "    <tr>\n",
       "      <th>261181242</th>\n",
       "      <td>01/01/2023</td>\n",
       "      <td>109</td>\n",
       "      <td>ASSAULT 2,1,UNCLASSIFIED</td>\n",
       "      <td>106.0</td>\n",
       "      <td>FELONY ASSAULT</td>\n",
       "      <td>F</td>\n",
       "      <td>K</td>\n",
       "      <td>79</td>\n",
       "      <td>0</td>\n",
       "      <td>25-44</td>\n",
       "      <td>...</td>\n",
       "      <td>NaN</td>\n",
       "      <td>NaN</td>\n",
       "      <td>NaN</td>\n",
       "      <td>NaN</td>\n",
       "      <td>NaN</td>\n",
       "      <td>NaN</td>\n",
       "      <td>NaN</td>\n",
       "      <td>NaN</td>\n",
       "      <td>NaN</td>\n",
       "      <td>NaN</td>\n",
       "    </tr>\n",
       "  </tbody>\n",
       "</table>\n",
       "<p>5 rows × 39 columns</p>\n",
       "</div>"
      ],
      "text/plain": [
       "          ARREST_DATE  PD_CD                         PD_DESC  KY_CD  \\\n",
       "ID                                                                    \n",
       "261180920  01/01/2023    244   BURGLARY,UNCLASSIFIED,UNKNOWN  107.0   \n",
       "261180925  01/01/2023    494  STOLEN PROPERTY 2,1,POSSESSION  111.0   \n",
       "261181238  01/01/2023    779  PUBLIC ADMINISTRATION,UNCLASSI  126.0   \n",
       "261181240  01/01/2023    779  PUBLIC ADMINISTRATION,UNCLASSI  126.0   \n",
       "261181242  01/01/2023    109        ASSAULT 2,1,UNCLASSIFIED  106.0   \n",
       "\n",
       "                               OFNS_DESC LAW_CAT_CD ARREST_BORO  \\\n",
       "ID                                                                \n",
       "261180920                       BURGLARY          F           K   \n",
       "261180925  POSSESSION OF STOLEN PROPERTY          F           Q   \n",
       "261181238        MISCELLANEOUS PENAL LAW          F           K   \n",
       "261181240        MISCELLANEOUS PENAL LAW          F           K   \n",
       "261181242                 FELONY ASSAULT          F           K   \n",
       "\n",
       "           ARREST_PRECINCT  JURISDICTION_CODE AGE_GROUP  ...  \\\n",
       "ID                                                       ...   \n",
       "261180920               75                  0     18-24  ...   \n",
       "261180925              107                  0     25-44  ...   \n",
       "261181238               79                  0     25-44  ...   \n",
       "261181240               79                  0     25-44  ...   \n",
       "261181242               79                  0     25-44  ...   \n",
       "\n",
       "          Record Create Date Complaint Precinct Code Patrol Borough Name  \\\n",
       "ID                                                                         \n",
       "261180920                NaN                     NaN                 NaN   \n",
       "261180925                NaN                     NaN                 NaN   \n",
       "261181238                NaN                     NaN                 NaN   \n",
       "261181240                NaN                     NaN                 NaN   \n",
       "261181242                NaN                     NaN                 NaN   \n",
       "\n",
       "          County Law Code Category Description Offense Description  \\\n",
       "ID                                                                   \n",
       "261180920    NaN                           NaN                 NaN   \n",
       "261180925    NaN                           NaN                 NaN   \n",
       "261181238    NaN                           NaN                 NaN   \n",
       "261181240    NaN                           NaN                 NaN   \n",
       "261181242    NaN                           NaN                 NaN   \n",
       "\n",
       "          PD Code Description  Bias Motive Description Offense Category  \\\n",
       "ID                                                                        \n",
       "261180920                 NaN                      NaN              NaN   \n",
       "261180925                 NaN                      NaN              NaN   \n",
       "261181238                 NaN                      NaN              NaN   \n",
       "261181240                 NaN                      NaN              NaN   \n",
       "261181242                 NaN                      NaN              NaN   \n",
       "\n",
       "          Arrest Date  \n",
       "ID                     \n",
       "261180920         NaN  \n",
       "261180925         NaN  \n",
       "261181238         NaN  \n",
       "261181240         NaN  \n",
       "261181242         NaN  \n",
       "\n",
       "[5 rows x 39 columns]"
      ]
     },
     "execution_count": 23,
     "metadata": {},
     "output_type": "execute_result"
    }
   ],
   "source": [
    "df.head()"
   ]
  },
  {
   "cell_type": "code",
   "execution_count": 24,
   "id": "99def7c7",
   "metadata": {},
   "outputs": [
    {
     "data": {
      "text/plain": [
       "(170095, 39)"
      ]
     },
     "execution_count": 24,
     "metadata": {},
     "output_type": "execute_result"
    }
   ],
   "source": [
    "# New shape after joining all three dataframes\n",
    "\n",
    "df.shape"
   ]
  },
  {
   "cell_type": "code",
   "execution_count": 25,
   "id": "e0df4049",
   "metadata": {},
   "outputs": [
    {
     "data": {
      "text/plain": [
       "Index(['ARREST_DATE', 'PD_CD', 'PD_DESC', 'KY_CD', 'OFNS_DESC', 'LAW_CAT_CD',\n",
       "       'ARREST_BORO', 'ARREST_PRECINCT', 'JURISDICTION_CODE', 'AGE_GROUP',\n",
       "       'PERP_SEX_arrest', 'PERP_RACE_arrest', 'New Georeferenced Column',\n",
       "       'OCCUR_DATE', 'OCCUR_TIME', 'BORO', 'LOC_OF_OCCUR_DESC', 'PRECINCT',\n",
       "       'LOC_CLASSFCTN_DESC', 'LOCATION_DESC', 'STATISTICAL_MURDER_FLAG',\n",
       "       'PERP_AGE_GROUP', 'PERP_SEX_shoot', 'PERP_RACE_shoot', 'VIC_AGE_GROUP',\n",
       "       'VIC_SEX', 'VIC_RACE', 'Complaint Year Number', 'Month Number',\n",
       "       'Record Create Date', 'Complaint Precinct Code', 'Patrol Borough Name',\n",
       "       'County', 'Law Code Category Description', 'Offense Description',\n",
       "       'PD Code Description', 'Bias Motive Description', 'Offense Category',\n",
       "       'Arrest Date'],\n",
       "      dtype='object')"
      ]
     },
     "execution_count": 25,
     "metadata": {},
     "output_type": "execute_result"
    }
   ],
   "source": [
    "df.columns\n"
   ]
  },
  {
   "cell_type": "code",
   "execution_count": 26,
   "id": "43357231",
   "metadata": {},
   "outputs": [],
   "source": [
    "from ydata_profiling import ProfileReport"
   ]
  },
  {
   "cell_type": "code",
   "execution_count": 27,
   "id": "d8b194a7",
   "metadata": {},
   "outputs": [],
   "source": [
    "profile = ProfileReport(df, title=\"Profiling Report\")"
   ]
  },
  {
   "cell_type": "code",
   "execution_count": 28,
   "id": "2d3ef4bf",
   "metadata": {},
   "outputs": [
    {
     "data": {
      "application/vnd.jupyter.widget-view+json": {
       "model_id": "7766b6043166458b94172379cdc38474",
       "version_major": 2,
       "version_minor": 0
      },
      "text/plain": [
       "Summarize dataset:   0%|          | 0/5 [00:00<?, ?it/s]"
      ]
     },
     "metadata": {},
     "output_type": "display_data"
    },
    {
     "data": {
      "application/vnd.jupyter.widget-view+json": {
       "model_id": "f2a1e385bd8f4ffa8eff8db5346996e1",
       "version_major": 2,
       "version_minor": 0
      },
      "text/plain": [
       "Generate report structure:   0%|          | 0/1 [00:00<?, ?it/s]"
      ]
     },
     "metadata": {},
     "output_type": "display_data"
    },
    {
     "data": {
      "application/vnd.jupyter.widget-view+json": {
       "model_id": "",
       "version_major": 2,
       "version_minor": 0
      },
      "text/plain": [
       "Render widgets:   0%|          | 0/1 [00:00<?, ?it/s]"
      ]
     },
     "metadata": {},
     "output_type": "display_data"
    },
    {
     "data": {
      "application/vnd.jupyter.widget-view+json": {
       "model_id": "b85fbeedcfb34ef58d5a31876ba17d45",
       "version_major": 2,
       "version_minor": 0
      },
      "text/plain": [
       "VBox(children=(Tab(children=(Tab(children=(GridBox(children=(VBox(children=(GridspecLayout(children=(HTML(valu…"
      ]
     },
     "metadata": {},
     "output_type": "display_data"
    }
   ],
   "source": [
    "profile.to_widgets()"
   ]
  },
  {
   "cell_type": "code",
   "execution_count": null,
   "id": "80686844",
   "metadata": {},
   "outputs": [],
   "source": []
  },
  {
   "cell_type": "markdown",
   "id": "08bc3353",
   "metadata": {},
   "source": [
    "# Using Sqlite3  to execute SQL queries\n"
   ]
  },
  {
   "cell_type": "code",
   "execution_count": 77,
   "id": "6233bd11",
   "metadata": {},
   "outputs": [],
   "source": [
    "# Import libaries\n",
    "\n",
    "import sqlite3\n"
   ]
  },
  {
   "cell_type": "code",
   "execution_count": 78,
   "id": "b4938fe3",
   "metadata": {},
   "outputs": [],
   "source": [
    "# Create connection\n",
    "\n",
    "cnn = sqlite3.connect('midterm_project.db')"
   ]
  },
  {
   "cell_type": "code",
   "execution_count": 65,
   "id": "7115b23e",
   "metadata": {},
   "outputs": [
    {
     "data": {
      "text/plain": [
       "170095"
      ]
     },
     "execution_count": 65,
     "metadata": {},
     "output_type": "execute_result"
    }
   ],
   "source": [
    "# name table \n",
    "\n",
    "df.to_sql('Project1',cnn)"
   ]
  },
  {
   "cell_type": "code",
   "execution_count": 79,
   "id": "dfa2c805",
   "metadata": {},
   "outputs": [
    {
     "name": "stdout",
     "output_type": "stream",
     "text": [
      "The sql extension is already loaded. To reload it, use:\n",
      "  %reload_ext sql\n"
     ]
    }
   ],
   "source": [
    "%load_ext sql"
   ]
  },
  {
   "cell_type": "code",
   "execution_count": 80,
   "id": "ae966933",
   "metadata": {},
   "outputs": [],
   "source": [
    "%sql sqlite:///midterm_project.db"
   ]
  },
  {
   "cell_type": "code",
   "execution_count": 81,
   "id": "5071dd48",
   "metadata": {},
   "outputs": [
    {
     "name": "stdout",
     "output_type": "stream",
     "text": [
      " * sqlite:///midterm_project.db\n",
      "Done.\n"
     ]
    },
    {
     "data": {
      "text/html": [
       "<table>\n",
       "    <thead>\n",
       "        <tr>\n",
       "            <th>count(*)</th>\n",
       "        </tr>\n",
       "    </thead>\n",
       "    <tbody>\n",
       "        <tr>\n",
       "            <td>170095</td>\n",
       "        </tr>\n",
       "    </tbody>\n",
       "</table>"
      ],
      "text/plain": [
       "[(170095,)]"
      ]
     },
     "execution_count": 81,
     "metadata": {},
     "output_type": "execute_result"
    }
   ],
   "source": [
    "%%sql\n",
    "select count(*)\n",
    "From Project"
   ]
  },
  {
   "cell_type": "code",
   "execution_count": 82,
   "id": "748add88",
   "metadata": {},
   "outputs": [
    {
     "name": "stdout",
     "output_type": "stream",
     "text": [
      " * sqlite:///midterm_project.db\n",
      "Done.\n"
     ]
    },
    {
     "data": {
      "text/html": [
       "<table>\n",
       "    <thead>\n",
       "        <tr>\n",
       "            <th>OFNS_DESC</th>\n",
       "        </tr>\n",
       "    </thead>\n",
       "    <tbody>\n",
       "        <tr>\n",
       "            <td>BURGLARY</td>\n",
       "        </tr>\n",
       "        <tr>\n",
       "            <td>POSSESSION OF STOLEN PROPERTY</td>\n",
       "        </tr>\n",
       "        <tr>\n",
       "            <td>MISCELLANEOUS PENAL LAW</td>\n",
       "        </tr>\n",
       "        <tr>\n",
       "            <td>FELONY ASSAULT</td>\n",
       "        </tr>\n",
       "        <tr>\n",
       "            <td>CRIMINAL MISCHIEF &amp; RELATED OF</td>\n",
       "        </tr>\n",
       "        <tr>\n",
       "            <td>DANGEROUS WEAPONS</td>\n",
       "        </tr>\n",
       "        <tr>\n",
       "            <td>DANGEROUS DRUGS</td>\n",
       "        </tr>\n",
       "        <tr>\n",
       "            <td>SEX CRIMES</td>\n",
       "        </tr>\n",
       "        <tr>\n",
       "            <td>VEHICLE AND TRAFFIC LAWS</td>\n",
       "        </tr>\n",
       "        <tr>\n",
       "            <td>ASSAULT 3 &amp; RELATED OFFENSES</td>\n",
       "        </tr>\n",
       "    </tbody>\n",
       "</table>"
      ],
      "text/plain": [
       "[('BURGLARY',),\n",
       " ('POSSESSION OF STOLEN PROPERTY',),\n",
       " ('MISCELLANEOUS PENAL LAW',),\n",
       " ('FELONY ASSAULT',),\n",
       " ('CRIMINAL MISCHIEF & RELATED OF',),\n",
       " ('DANGEROUS WEAPONS',),\n",
       " ('DANGEROUS DRUGS',),\n",
       " ('SEX CRIMES',),\n",
       " ('VEHICLE AND TRAFFIC LAWS',),\n",
       " ('ASSAULT 3 & RELATED OFFENSES',)]"
      ]
     },
     "execution_count": 82,
     "metadata": {},
     "output_type": "execute_result"
    }
   ],
   "source": [
    "%%sql\n",
    "select Distinct OFNS_DESC\n",
    "From Project\n",
    "limit 10;"
   ]
  },
  {
   "cell_type": "code",
   "execution_count": 83,
   "id": "5487acf6",
   "metadata": {},
   "outputs": [
    {
     "name": "stdout",
     "output_type": "stream",
     "text": [
      " * sqlite:///midterm_project.db\n",
      "Done.\n"
     ]
    },
    {
     "data": {
      "text/html": [
       "<table>\n",
       "    <thead>\n",
       "        <tr>\n",
       "            <th>County</th>\n",
       "        </tr>\n",
       "    </thead>\n",
       "    <tbody>\n",
       "        <tr>\n",
       "            <td>None</td>\n",
       "        </tr>\n",
       "    </tbody>\n",
       "</table>"
      ],
      "text/plain": [
       "[(None,)]"
      ]
     },
     "execution_count": 83,
     "metadata": {},
     "output_type": "execute_result"
    }
   ],
   "source": [
    "%%sql\n",
    "\n",
    "select Distinct County\n",
    "From Project\n"
   ]
  },
  {
   "cell_type": "code",
   "execution_count": 84,
   "id": "59cd3218",
   "metadata": {},
   "outputs": [
    {
     "name": "stdout",
     "output_type": "stream",
     "text": [
      " * sqlite:///midterm_project.db\n",
      "Done.\n"
     ]
    },
    {
     "data": {
      "text/html": [
       "<table>\n",
       "    <thead>\n",
       "        <tr>\n",
       "            <th>AGE_GROUP</th>\n",
       "        </tr>\n",
       "    </thead>\n",
       "    <tbody>\n",
       "        <tr>\n",
       "            <td>18-24</td>\n",
       "        </tr>\n",
       "        <tr>\n",
       "            <td>25-44</td>\n",
       "        </tr>\n",
       "        <tr>\n",
       "            <td>45-64</td>\n",
       "        </tr>\n",
       "        <tr>\n",
       "            <td>&lt;18</td>\n",
       "        </tr>\n",
       "        <tr>\n",
       "            <td>65+</td>\n",
       "        </tr>\n",
       "    </tbody>\n",
       "</table>"
      ],
      "text/plain": [
       "[('18-24',), ('25-44',), ('45-64',), ('<18',), ('65+',)]"
      ]
     },
     "execution_count": 84,
     "metadata": {},
     "output_type": "execute_result"
    }
   ],
   "source": [
    "%%sql\n",
    "\n",
    "select Distinct AGE_GROUP\n",
    "From Project"
   ]
  },
  {
   "cell_type": "code",
   "execution_count": 85,
   "id": "81ecf8e6",
   "metadata": {},
   "outputs": [
    {
     "name": "stdout",
     "output_type": "stream",
     "text": [
      " * sqlite:///midterm_project.db\n",
      "Done.\n"
     ]
    },
    {
     "data": {
      "text/html": [
       "<table>\n",
       "    <thead>\n",
       "        <tr>\n",
       "            <th>BORO</th>\n",
       "        </tr>\n",
       "    </thead>\n",
       "    <tbody>\n",
       "        <tr>\n",
       "            <td>None</td>\n",
       "        </tr>\n",
       "    </tbody>\n",
       "</table>"
      ],
      "text/plain": [
       "[(None,)]"
      ]
     },
     "execution_count": 85,
     "metadata": {},
     "output_type": "execute_result"
    }
   ],
   "source": [
    "%%sql\n",
    "select Distinct Boro\n",
    "From Project\n"
   ]
  },
  {
   "cell_type": "code",
   "execution_count": 86,
   "id": "7fc09ac8",
   "metadata": {},
   "outputs": [
    {
     "name": "stdout",
     "output_type": "stream",
     "text": [
      " * sqlite:///midterm_project.db\n",
      "Done.\n"
     ]
    },
    {
     "data": {
      "text/html": [
       "<table>\n",
       "    <thead>\n",
       "        <tr>\n",
       "            <th>PD_DESC</th>\n",
       "        </tr>\n",
       "    </thead>\n",
       "    <tbody>\n",
       "        <tr>\n",
       "            <td>BURGLARY,UNCLASSIFIED,UNKNOWN</td>\n",
       "        </tr>\n",
       "        <tr>\n",
       "            <td>STOLEN PROPERTY 2,1,POSSESSION</td>\n",
       "        </tr>\n",
       "        <tr>\n",
       "            <td>PUBLIC ADMINISTRATION,UNCLASSI</td>\n",
       "        </tr>\n",
       "        <tr>\n",
       "            <td>ASSAULT 2,1,UNCLASSIFIED</td>\n",
       "        </tr>\n",
       "        <tr>\n",
       "            <td>CRIMINAL MIS 2 &amp; 3</td>\n",
       "        </tr>\n",
       "        <tr>\n",
       "            <td>CRIMINAL POSSESSION WEAPON</td>\n",
       "        </tr>\n",
       "        <tr>\n",
       "            <td>CONTROLLED SUBSTANCE, POSSESSI</td>\n",
       "        </tr>\n",
       "        <tr>\n",
       "            <td>SEXUAL ABUSE 3,2</td>\n",
       "        </tr>\n",
       "        <tr>\n",
       "            <td>STRANGULATION 1ST</td>\n",
       "        </tr>\n",
       "        <tr>\n",
       "            <td>CONTROLLED SUBSTANCE,INTENT TO</td>\n",
       "        </tr>\n",
       "    </tbody>\n",
       "</table>"
      ],
      "text/plain": [
       "[('BURGLARY,UNCLASSIFIED,UNKNOWN',),\n",
       " ('STOLEN PROPERTY 2,1,POSSESSION',),\n",
       " ('PUBLIC ADMINISTRATION,UNCLASSI',),\n",
       " ('ASSAULT 2,1,UNCLASSIFIED',),\n",
       " ('CRIMINAL MIS 2 & 3',),\n",
       " ('CRIMINAL POSSESSION WEAPON',),\n",
       " ('CONTROLLED SUBSTANCE, POSSESSI',),\n",
       " ('SEXUAL ABUSE 3,2',),\n",
       " ('STRANGULATION 1ST',),\n",
       " ('CONTROLLED SUBSTANCE,INTENT TO',)]"
      ]
     },
     "execution_count": 86,
     "metadata": {},
     "output_type": "execute_result"
    }
   ],
   "source": [
    "%%sql\n",
    "select Distinct PD_DESC\n",
    "From Project\n",
    "limit 10"
   ]
  },
  {
   "cell_type": "code",
   "execution_count": 88,
   "id": "917b55f3",
   "metadata": {},
   "outputs": [
    {
     "name": "stdout",
     "output_type": "stream",
     "text": [
      " * sqlite:///midterm_project.db\n",
      "Done.\n"
     ]
    },
    {
     "data": {
      "text/html": [
       "<table>\n",
       "    <thead>\n",
       "        <tr>\n",
       "            <th>ARREST_BORO</th>\n",
       "        </tr>\n",
       "    </thead>\n",
       "    <tbody>\n",
       "        <tr>\n",
       "            <td>K</td>\n",
       "        </tr>\n",
       "        <tr>\n",
       "            <td>Q</td>\n",
       "        </tr>\n",
       "        <tr>\n",
       "            <td>M</td>\n",
       "        </tr>\n",
       "        <tr>\n",
       "            <td>B</td>\n",
       "        </tr>\n",
       "        <tr>\n",
       "            <td>S</td>\n",
       "        </tr>\n",
       "    </tbody>\n",
       "</table>"
      ],
      "text/plain": [
       "[('K',), ('Q',), ('M',), ('B',), ('S',)]"
      ]
     },
     "execution_count": 88,
     "metadata": {},
     "output_type": "execute_result"
    }
   ],
   "source": [
    "%%sql\n",
    "\n",
    "SELECT DISTINCT ARREST_BORO\n",
    "FROM PROJECT\n",
    "LIMIT 10"
   ]
  },
  {
   "cell_type": "markdown",
   "id": "4405048a",
   "metadata": {},
   "source": [
    "## Challenges\n",
    "\n",
    "1. Finding the common columns to join on\n",
    "2. Null values after join dataframe\n",
    "3. Incorrect data type\n",
    "4. Misspelling"
   ]
  },
  {
   "cell_type": "code",
   "execution_count": null,
   "id": "ca882c68",
   "metadata": {},
   "outputs": [],
   "source": []
  }
 ],
 "metadata": {
  "kernelspec": {
   "display_name": "Python 3 (ipykernel)",
   "language": "python",
   "name": "python3"
  },
  "language_info": {
   "codemirror_mode": {
    "name": "ipython",
    "version": 3
   },
   "file_extension": ".py",
   "mimetype": "text/x-python",
   "name": "python",
   "nbconvert_exporter": "python",
   "pygments_lexer": "ipython3",
   "version": "3.9.13"
  }
 },
 "nbformat": 4,
 "nbformat_minor": 5
}
