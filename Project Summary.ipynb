{
 "cells": [
  {
   "cell_type": "markdown",
   "id": "a371df5e",
   "metadata": {
    "slideshow": {
     "slide_type": "slide"
    }
   },
   "source": [
    "# Project Overview\n",
    "\n",
    "\n",
    "\n",
    "**The main goal of this project is to analyze three NYPD datasets to gain insights about public safety in New York City. Data Science tools such Python, SQL, and Git to clean, retrieve, and analyze data on the following dataset**\n",
    "\n",
    "\n",
    "\n",
    "**Project Goal**: - The end goal is to uncover patterns and trends that can help law enforcement and policymakers make data-driven decisions and keep New York City residence safety and reduce the crime\n",
    "\n",
    "#### Data Sets use for this project __(https://catalog.data.gov/dataset)__\n",
    "\n",
    "1. NYPD Hatecrime\n",
    "2. NYPD Shooting\n",
    "3. NYPD Arrest\n",
    "\n",
    "### Team Members: Nuzhut Prova, Ramaya and Sunita Inderjit, Srikant Reddy"
   ]
  },
  {
   "cell_type": "code",
   "execution_count": 4,
   "id": "cb32dc11",
   "metadata": {
    "slideshow": {
     "slide_type": "slide"
    }
   },
   "outputs": [],
   "source": [
    "import pandas as pd\n",
    "import seaborn as sb\n",
    "import matplotlib.pyplot as plt"
   ]
  },
  {
   "cell_type": "code",
   "execution_count": 5,
   "id": "ec0e9d99",
   "metadata": {
    "slideshow": {
     "slide_type": "slide"
    }
   },
   "outputs": [],
   "source": [
    "#shape (2247, 14)\n",
    "\n",
    "hate_crime = pd.read_csv('NYPD_Hate_Crimes.csv')"
   ]
  },
  {
   "cell_type": "code",
   "execution_count": 35,
   "id": "43da5134",
   "metadata": {
    "slideshow": {
     "slide_type": "slide"
    }
   },
   "outputs": [],
   "source": [
    "#shape (170095, 19)\n",
    "\n",
    "arrest_data =pd.read_csv('NYPD_Arrest_Data__Year_to_Date_.csv')\n"
   ]
  },
  {
   "cell_type": "code",
   "execution_count": 36,
   "id": "83d2fd36",
   "metadata": {
    "slideshow": {
     "slide_type": "slide"
    }
   },
   "outputs": [],
   "source": [
    "#shape (27312, 21)\n",
    "\n",
    "shooting_data = pd.read_csv('NYPD_Shooting_Incident_Data__Historic_.csv')\n"
   ]
  },
  {
   "cell_type": "markdown",
   "id": "04943947",
   "metadata": {
    "slideshow": {
     "slide_type": "slide"
    }
   },
   "source": [
    "## Borough with the most HateCrime, Shooting and Arrest\n"
   ]
  },
  {
   "cell_type": "code",
   "execution_count": 10,
   "id": "2b37ef0e",
   "metadata": {
    "slideshow": {
     "slide_type": "slide"
    }
   },
   "outputs": [
    {
     "data": {
      "text/plain": [
       "NEW YORK    797\n",
       "KINGS       777\n",
       "QUEENS      426\n",
       "BRONX       163\n",
       "RICHMOND     84\n",
       "Name: County, dtype: int64"
      ]
     },
     "execution_count": 10,
     "metadata": {},
     "output_type": "execute_result"
    }
   ],
   "source": [
    "# County with most hatecrime\n",
    "\n",
    "hate_crime['County'].value_counts()"
   ]
  },
  {
   "cell_type": "code",
   "execution_count": 56,
   "id": "ab983a94",
   "metadata": {
    "slideshow": {
     "slide_type": "slide"
    }
   },
   "outputs": [
    {
     "data": {
      "text/plain": [
       "BROOKLYN         10933\n",
       "BRONX             7937\n",
       "QUEENS            4094\n",
       "MANHATTAN         3572\n",
       "STATEN ISLAND      776\n",
       "Name: BORO, dtype: int64"
      ]
     },
     "execution_count": 56,
     "metadata": {},
     "output_type": "execute_result"
    }
   ],
   "source": [
    "# Boro with most shooting\n",
    "shooting_data['BORO'].value_counts()"
   ]
  },
  {
   "cell_type": "code",
   "execution_count": 11,
   "id": "ebf6204b",
   "metadata": {
    "slideshow": {
     "slide_type": "slide"
    }
   },
   "outputs": [
    {
     "data": {
      "text/plain": [
       "K    46825\n",
       "B    39957\n",
       "M    39652\n",
       "Q    36246\n",
       "S     7415\n",
       "Name: ARREST_BORO, dtype: int64"
      ]
     },
     "execution_count": 11,
     "metadata": {},
     "output_type": "execute_result"
    }
   ],
   "source": [
    "# Boro with highest arrest \n",
    "\n",
    "arrest_data['ARREST_BORO'].value_counts()"
   ]
  },
  {
   "cell_type": "markdown",
   "id": "faa80662",
   "metadata": {
    "slideshow": {
     "slide_type": "slide"
    }
   },
   "source": [
    "# Age Group with Highest Number of Shooting & Arrest"
   ]
  },
  {
   "cell_type": "code",
   "execution_count": 14,
   "id": "871a9e67",
   "metadata": {
    "slideshow": {
     "slide_type": "slide"
    }
   },
   "outputs": [
    {
     "data": {
      "text/plain": [
       "25-44      12281\n",
       "18-24      10086\n",
       "<18         2839\n",
       "45-64       1863\n",
       "65+          181\n",
       "UNKNOWN       61\n",
       "1022           1\n",
       "Name: VIC_AGE_GROUP, dtype: int64"
      ]
     },
     "execution_count": 14,
     "metadata": {},
     "output_type": "execute_result"
    }
   ],
   "source": [
    "# Age Group of victims\n",
    "\n",
    "shooting_data['VIC_AGE_GROUP'].value_counts()"
   ]
  },
  {
   "cell_type": "code",
   "execution_count": 13,
   "id": "9362a837",
   "metadata": {
    "slideshow": {
     "slide_type": "slide"
    }
   },
   "outputs": [
    {
     "data": {
      "text/plain": [
       "25-44    97601\n",
       "45-64    33416\n",
       "18-24    30036\n",
       "<18       6245\n",
       "65+       2797\n",
       "Name: AGE_GROUP, dtype: int64"
      ]
     },
     "execution_count": 13,
     "metadata": {},
     "output_type": "execute_result"
    }
   ],
   "source": [
    "# age group of Perp\n",
    "\n",
    "arrest_data['AGE_GROUP'].value_counts()"
   ]
  },
  {
   "cell_type": "markdown",
   "id": "bdffb61d",
   "metadata": {
    "slideshow": {
     "slide_type": "slide"
    }
   },
   "source": [
    "## Race / Nationality"
   ]
  },
  {
   "cell_type": "code",
   "execution_count": 15,
   "id": "b03c4663",
   "metadata": {
    "slideshow": {
     "slide_type": "slide"
    }
   },
   "outputs": [
    {
     "data": {
      "text/plain": [
       "Religion/Religious Practice           1110\n",
       "Race/Color                             586\n",
       "Sexual Orientation                     319\n",
       "Ethnicity/National Origin/Ancestry     146\n",
       "Gender                                  82\n",
       "Race/Religious Practice                  2\n",
       "Age                                      1\n",
       "Disability                               1\n",
       "Name: Offense Category, dtype: int64"
      ]
     },
     "execution_count": 15,
     "metadata": {},
     "output_type": "execute_result"
    }
   ],
   "source": [
    "\n",
    "hate_crime['Offense Category'].value_counts()"
   ]
  },
  {
   "cell_type": "code",
   "execution_count": 16,
   "id": "34270965",
   "metadata": {
    "slideshow": {
     "slide_type": "slide"
    }
   },
   "outputs": [
    {
     "data": {
      "text/plain": [
       "BLACK                             11432\n",
       "WHITE HISPANIC                     2341\n",
       "UNKNOWN                            1836\n",
       "BLACK HISPANIC                     1314\n",
       "(null)                              640\n",
       "WHITE                               283\n",
       "ASIAN / PACIFIC ISLANDER            154\n",
       "AMERICAN INDIAN/ALASKAN NATIVE        2\n",
       "Name: PERP_RACE, dtype: int64"
      ]
     },
     "execution_count": 16,
     "metadata": {},
     "output_type": "execute_result"
    }
   ],
   "source": [
    "\n",
    "shooting_data['PERP_RACE'].value_counts()"
   ]
  },
  {
   "cell_type": "code",
   "execution_count": 17,
   "id": "2e03ffdf",
   "metadata": {
    "slideshow": {
     "slide_type": "slide"
    }
   },
   "outputs": [
    {
     "data": {
      "text/plain": [
       "BLACK                             82041\n",
       "WHITE HISPANIC                    43081\n",
       "BLACK HISPANIC                    16501\n",
       "WHITE                             16373\n",
       "ASIAN / PACIFIC ISLANDER           9066\n",
       "UNKNOWN                            2481\n",
       "AMERICAN INDIAN/ALASKAN NATIVE      552\n",
       "Name: PERP_RACE, dtype: int64"
      ]
     },
     "execution_count": 17,
     "metadata": {},
     "output_type": "execute_result"
    }
   ],
   "source": [
    "arrest_data['PERP_RACE'].value_counts()"
   ]
  },
  {
   "cell_type": "markdown",
   "id": "34105fc4",
   "metadata": {
    "slideshow": {
     "slide_type": "slide"
    }
   },
   "source": [
    "## Top Offenses"
   ]
  },
  {
   "cell_type": "code",
   "execution_count": 18,
   "id": "f2ffa520",
   "metadata": {
    "slideshow": {
     "slide_type": "slide"
    }
   },
   "outputs": [
    {
     "data": {
      "text/plain": [
       "ANTI-JEWISH                          983\n",
       "ANTI-ASIAN                           299\n",
       "ANTI-MALE HOMOSEXUAL (GAY)           276\n",
       "ANTI-BLACK                           195\n",
       "ANTI-WHITE                            88\n",
       "ANTI-OTHER ETHNICITY                  88\n",
       "ANTI-MUSLIM                           60\n",
       "ANTI-TRANSGENDER                      60\n",
       "ANTI-HISPANIC                         51\n",
       "ANTI-CATHOLIC                         42\n",
       "ANTI-FEMALE HOMOSEXUAL (LESBIAN)      32\n",
       "ANTI-FEMALE                           14\n",
       "ANTI-LGBT (MIXED GROUP)               11\n",
       "ANTI-GENDER NON-CONFORMING             8\n",
       "ANTI-ARAB                              7\n",
       "ANTI-HINDU                             6\n",
       "ANTI-OTHER RELIGION                    5\n",
       "ANTI-SIKH                              4\n",
       "ANTI-MULTI-RACIAL GROUPS               3\n",
       "ANTI-JEHOVAHS WITNESS                  3\n",
       "ANTI-BUDDHIST                          3\n",
       "ANTI-RELIGIOUS PRACTICE GENERALLY      3\n",
       "ANTI-EASTERN ORTHODOX                  2\n",
       "60 YRS AND OLDER                       1\n",
       "ANTI-PHYSICAL DISABILITY               1\n",
       "ANTI_BLACK                             1\n",
       "ANTI-PROTESTANT                        1\n",
       "Name: Bias Motive Description, dtype: int64"
      ]
     },
     "execution_count": 18,
     "metadata": {},
     "output_type": "execute_result"
    }
   ],
   "source": [
    "hate_crime['Bias Motive Description'].value_counts()"
   ]
  },
  {
   "cell_type": "code",
   "execution_count": 19,
   "id": "349cfb5d",
   "metadata": {
    "slideshow": {
     "slide_type": "slide"
    }
   },
   "outputs": [
    {
     "data": {
      "text/plain": [
       "False    22046\n",
       "True      5266\n",
       "Name: STATISTICAL_MURDER_FLAG, dtype: int64"
      ]
     },
     "execution_count": 19,
     "metadata": {},
     "output_type": "execute_result"
    }
   ],
   "source": [
    "\n",
    "shooting_data['STATISTICAL_MURDER_FLAG'].value_counts()"
   ]
  },
  {
   "cell_type": "code",
   "execution_count": 20,
   "id": "6164d11a",
   "metadata": {
    "slideshow": {
     "slide_type": "slide"
    }
   },
   "outputs": [
    {
     "data": {
      "text/plain": [
       "STREET         1103\n",
       "HOUSING         280\n",
       "DWELLING        127\n",
       "COMMERCIAL      100\n",
       "OTHER            31\n",
       "PLAYGROUND       30\n",
       "VEHICLE          23\n",
       "TRANSIT          15\n",
       "PARKING LOT       7\n",
       "Name: LOC_CLASSFCTN_DESC, dtype: int64"
      ]
     },
     "execution_count": 20,
     "metadata": {},
     "output_type": "execute_result"
    }
   ],
   "source": [
    "# Shooting location\n",
    "shooting_data['LOC_CLASSFCTN_DESC'].value_counts()"
   ]
  },
  {
   "cell_type": "code",
   "execution_count": 29,
   "id": "a72676d8",
   "metadata": {
    "slideshow": {
     "slide_type": "slide"
    }
   },
   "outputs": [
    {
     "data": {
      "text/plain": [
       "ASSAULT 3 & RELATED OFFENSES      25200\n",
       "PETIT LARCENY                     18025\n",
       "FELONY ASSAULT                    16030\n",
       "DANGEROUS DRUGS                   11526\n",
       "MISCELLANEOUS PENAL LAW           11132\n",
       "                                  ...  \n",
       "DISRUPTION OF A RELIGIOUS SERV        2\n",
       "HOMICIDE-NEGLIGENT-VEHICLE            2\n",
       "FELONY SEX CRIMES                     2\n",
       "UNLAWFUL POSS. WEAP. ON SCHOOL        1\n",
       "ADMINISTRATIVE CODES                  1\n",
       "Name: OFNS_DESC, Length: 64, dtype: int64"
      ]
     },
     "execution_count": 29,
     "metadata": {},
     "output_type": "execute_result"
    }
   ],
   "source": [
    "# Reason for Arrest\n",
    "\n",
    "arrest_data['OFNS_DESC'].value_counts()"
   ]
  },
  {
   "cell_type": "code",
   "execution_count": 33,
   "id": "19d384e0",
   "metadata": {
    "slideshow": {
     "slide_type": "slide"
    }
   },
   "outputs": [
    {
     "data": {
      "text/plain": [
       "ASSAULT 3                                18384\n",
       "LARCENY,PETIT FROM OPEN AREAS,           17957\n",
       "ASSAULT 2,1,UNCLASSIFIED                 11945\n",
       "TRAFFIC,UNCLASSIFIED MISDEMEAN            9040\n",
       "ROBBERY,OPEN AREA UNCLASSIFIED            8115\n",
       "                                         ...  \n",
       "SUPP. ACT TERR 2ND                           1\n",
       "USE CELL PHONE WHILE DRIVING                 1\n",
       "MANUFATURE, TRANSPORT, DEFACE, ETC...        1\n",
       "GAMBLING 2, PROMOTING, POLICY-               1\n",
       "NOISE,UNECESSARY                             1\n",
       "Name: PD_DESC, Length: 244, dtype: int64"
      ]
     },
     "execution_count": 33,
     "metadata": {},
     "output_type": "execute_result"
    }
   ],
   "source": [
    "# Reason for arrest\n",
    "\n",
    "arrest_data['PD_DESC'].value_counts()"
   ]
  },
  {
   "cell_type": "markdown",
   "id": "fbe1487a",
   "metadata": {
    "slideshow": {
     "slide_type": "slide"
    }
   },
   "source": [
    "# Trend of Hatecrime, shooting and Arrest over the years"
   ]
  },
  {
   "cell_type": "code",
   "execution_count": 53,
   "id": "4e5e6842",
   "metadata": {
    "slideshow": {
     "slide_type": "slide"
    }
   },
   "outputs": [
    {
     "data": {
      "image/png": "[encoded data removed]",
      "text/plain": [
       "<Figure size 1000x600 with 1 Axes>"
      ]
     },
     "metadata": {},
     "output_type": "display_data"
    }
   ],
   "source": [
    "plt.figure(figsize=(10, 6))\n",
    "time_series_data = hate_crime.groupby(['Complaint Year Number']).size().reset_index(name='Frequency')\n",
    "sb.lineplot(x='Complaint Year Number', y='Frequency', data=time_series_data)\n",
    "plt.title('Trend of Hate Crimes Over the Years')\n",
    "plt.xlabel('Complaint Year')\n",
    "plt.ylabel('Frequency')\n",
    "plt.show()"
   ]
  },
  {
   "cell_type": "markdown",
   "id": "14c070ba",
   "metadata": {
    "slideshow": {
     "slide_type": "slide"
    }
   },
   "source": [
    "![](shooting.png)"
   ]
  },
  {
   "cell_type": "markdown",
   "id": "2bc98e97",
   "metadata": {
    "slideshow": {
     "slide_type": "slide"
    }
   },
   "source": [
    "![](arrest.png)"
   ]
  },
  {
   "cell_type": "markdown",
   "id": "7a5adb4c",
   "metadata": {
    "slideshow": {
     "slide_type": "slide"
    }
   },
   "source": [
    "## Merge/join  All three datasets\n",
    "\n",
    "**Steps taken\n",
    "\n",
    "1. Select common column, in this case waas ID column\n",
    "2. Dropped unnecessary columns\n",
    "3. Set Id as Index then perform join\n",
    "4. Import Sqlite3 to execute sql queries on combine data frame\n"
   ]
  },
  {
   "cell_type": "markdown",
   "id": "4653b22f",
   "metadata": {
    "slideshow": {
     "slide_type": "slide"
    }
   },
   "source": [
    "![](count.png)"
   ]
  },
  {
   "cell_type": "markdown",
   "id": "df7fea2d",
   "metadata": {
    "slideshow": {
     "slide_type": "slide"
    }
   },
   "source": [
    "![](age.png)\n"
   ]
  },
  {
   "cell_type": "markdown",
   "id": "e5eb8572",
   "metadata": {
    "slideshow": {
     "slide_type": "slide"
    }
   },
   "source": [
    "![](boro.png)"
   ]
  },
  {
   "cell_type": "markdown",
   "id": "d0d4b16f",
   "metadata": {
    "slideshow": {
     "slide_type": "slide"
    }
   },
   "source": [
    "![](distict.png)"
   ]
  },
  {
   "cell_type": "markdown",
   "id": "a24fa7a9",
   "metadata": {
    "slideshow": {
     "slide_type": "slide"
    }
   },
   "source": [
    "# How these related to current events"
   ]
  },
  {
   "cell_type": "markdown",
   "id": "2813571d",
   "metadata": {
    "slideshow": {
     "slide_type": "slide"
    }
   },
   "source": [
    "### Hate Crime\n",
    "\n",
    "* Recent news from CBS News** Man wearing Arab scarf says he was violently confronted by a woman in Brooklyn park NOVEMBER 9, 2023 / 11:46 PM EST / CBS NEW YORK\n",
    "\n",
    "**Cornell student arrested for allegedly making antisemitic threats**\n",
    "\n",
    "* The engineering student is expected to appear Wednesday in federal court after being accused of making   antisemitic   threats against the school's Jewish community. CBS New York's John Dias has the details.NOV 1, 2023\n",
    "\n",
    "\n",
    "**Mayor Eric Adams rallies with members of Sikh community following recent hate crimes** OCTOBER 29, 2023 / 6:42 PM EDT / CBS NEW YORK\n",
    "\n",
    "- It came after 66-year-old Jasmer Singh was killed earlier this month following a road rage incident and a 19-year-old wearing a turban was attacked on a bus.\n",
    "\n",
    "\n",
    "* Convid incident Asian Bias those was targeted group for spreading convid\n",
    "\n",
    "* War with Russian (targeted community)\n",
    "\n",
    "* Asian women was push and killed on train track\n",
    "\n",
    "* Black Live matter in 2020"
   ]
  },
  {
   "cell_type": "markdown",
   "id": "adeb33ea",
   "metadata": {
    "slideshow": {
     "slide_type": "slide"
    }
   },
   "source": [
    "### Shooting\n",
    "\n",
    "* Man fatally shot in Harlem, latest burst of violence at NYC smoke shops, November 15, 2023 at 11:09 p.m A man was shot to death outside a Harlem smoke shop Wednesday night, cops said\n",
    "\n",
    "* Man charged with allegedly firing gun to stop robbery in Midtown subway station, MIDTOWN, Manhattan (WABC) -- A 43-year-old man has been charged after he allegedly opened fire when a homeless panhandler threatened to mug a woman at a Midtown subway station on Tuesday night.\n",
    "\n",
    "- Downstairs neighbor allegedly shoots, kills father and son in noise dispute at Brooklyn apartment\n",
    "  Thursday, November 2, 2023"
   ]
  },
  {
   "cell_type": "markdown",
   "id": "4da775b4",
   "metadata": {
    "slideshow": {
     "slide_type": "slide"
    }
   },
   "source": [
    "### Arrest\n",
    "\n",
    "- New York authorities make 'largest-ever seizure' of counterfeit goods worth more than $1B, November 16 2023\n",
    "\n",
    "- Teen stabbed in Times Square, several arrested after dispute with tour bus worker\n",
    "- Attacker who randomly shoved 85-year-old man onto NYC subway tracks arrested: cops Published Nov. 16, 2023,12:27 p.m. ET Brittan Jones, 30 didn’t say a word when he pushed the unsuspecting senior onto the southbound tracks at the 47th–50th Streets–Rockefeller Center station around 5:40 a.m. \n",
    "\n",
    "\n",
    "- Cops arrest woman who slapped teen, man at pro-Palestinian march on Brooklyn Bridge, 1 day ago\n"
   ]
  },
  {
   "cell_type": "markdown",
   "id": "43ae7119",
   "metadata": {
    "slideshow": {
     "slide_type": "slide"
    }
   },
   "source": [
    "## Conclusion:\n",
    "\n",
    "The analyses of the NYPD hatecrime, shooting, and arrest datasets revealed several insights into crime patterns and demographics in New York City. Key findings show hate crimes disproportionately target Jewish, Asian and LGBTQ+ communities, shootings predominantly involve young Black male, Hispanic perpetrators, and arrests are concentrated in lower-income boroughs like Brooklyn and Bronx.\n",
    "\n",
    "\n",
    "\n",
    "Some trends are the decline in overall arrests and shootings from the mid-2000s peak, but with spikes in recent years. The data also shows correlation between certain demographics and types of crimes. For example, hate crimes correlate with race, sexual orientation, and religion while shootings correlate with age, borough, and race of the perpetrators.\n",
    "\n",
    "\n"
   ]
  },
  {
   "cell_type": "markdown",
   "id": "f4292882",
   "metadata": {
    "slideshow": {
     "slide_type": "slide"
    }
   },
   "source": [
    "## Recommendations:\n",
    "\n",
    "1. Increase community outreach and police presence in vulnerable neighborhoods to further reduce crime rates.\n",
    "\n",
    "2. Focus youth engagement programs and job opportunities in high-risk areas to provide alternatives to gang involvement.\n",
    "\n",
    "3. Improve bias training for police officers and continue de-escalation tactics to lower arrests.\n",
    "\n",
    "4. Expand reporting and support services for marginalized groups to address underreporting of hate crimes.\n",
    "\n",
    "5. Conduct further analysis into precipitating circumstances of crimes to guide situational prevention efforts.\n",
    "\n",
    "6. Develop crime early-warning systems using statistical models to deploy resources proactively based on data insights.\n",
    "\n",
    "\n",
    "#### Summary\n",
    "\n",
    "Targeted strategies informed by data analysis can help reduce crime and improve community-police relations if implemented responsibly with community involvement. Sustained efforts are needed to promote safety and justice for all New Yorkers."
   ]
  },
  {
   "cell_type": "code",
   "execution_count": null,
   "id": "d6824e5b",
   "metadata": {},
   "outputs": [],
   "source": []
  },
  {
   "cell_type": "code",
   "execution_count": null,
   "id": "80a7aae3",
   "metadata": {},
   "outputs": [],
   "source": []
  }
 ],
 "metadata": {
  "kernelspec": {
   "display_name": "Python 3 (ipykernel)",
   "language": "python",
   "name": "python3"
  },
  "language_info": {
   "codemirror_mode": {
    "name": "ipython",
    "version": 3
   },
   "file_extension": ".py",
   "mimetype": "text/x-python",
   "name": "python",
   "nbconvert_exporter": "python",
   "pygments_lexer": "ipython3",
   "version": "3.9.13"
  }
 },
 "nbformat": 4,
 "nbformat_minor": 5
}
